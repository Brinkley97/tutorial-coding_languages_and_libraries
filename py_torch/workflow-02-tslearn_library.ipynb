{
 "cells": [
  {
   "cell_type": "markdown",
   "metadata": {},
   "source": [
    "# PyTorch Workflow\n",
    "- TUTORIAL: [PyTorch for Deep Learning & Machine Learning – Full Course](https://www.youtube.com/watch?v=V_xro1bcAuA&t=27320s) by Daniel Bourke "
   ]
  },
  {
   "cell_type": "code",
   "execution_count": 1,
   "metadata": {},
   "outputs": [],
   "source": [
    "what_were_covering = {1: \"data (prepare and load)\",\n",
    "    2: \"build model\",\n",
    "    3: \"fitting the model to data (training)\",\n",
    "    4: \"making predictions and evaluating a model (inference)\",\n",
    "    5: \"saving and loading a model\",\n",
    "    6: \"putting it all together\"\n",
    "}"
   ]
  },
  {
   "cell_type": "code",
   "execution_count": 2,
   "metadata": {},
   "outputs": [],
   "source": [
    "import os\n",
    "import sys\n",
    "import torch\n",
    "\n",
    "import numpy as np\n",
    "import pandas as pd\n",
    "\n",
    "\n",
    "import matplotlib.pyplot as plt\n",
    "\n",
    "from torch import nn\n",
    "\n",
    "torch.__version__\n",
    "\n",
    "# Get the current working directory of the notebook\n",
    "notebook_dir = os.getcwd()\n",
    "\n",
    "sys.path.append(os.path.join(notebook_dir, '../../applied_time_series_and_machine_learning/framework_for_time_series_data/tslearn/'))\n",
    "\n",
    "from ml_models import LinearRegressionModel"
   ]
  },
  {
   "cell_type": "markdown",
   "metadata": {},
   "source": [
    "## 1. Data (preparing and loading)\n",
    "\n",
    "1. Get data into a numerical representation.\n",
    "2. Build a model to learn patterns in that numerical representations.\n",
    "\n",
    "Linear Regression with known **parameters**"
   ]
  },
  {
   "cell_type": "code",
   "execution_count": 3,
   "metadata": {},
   "outputs": [
    {
     "data": {
      "text/plain": [
       "tensor([[0.3000],\n",
       "        [0.3140],\n",
       "        [0.3280],\n",
       "        [0.3420],\n",
       "        [0.3560],\n",
       "        [0.3700],\n",
       "        [0.3840],\n",
       "        [0.3980],\n",
       "        [0.4120],\n",
       "        [0.4260],\n",
       "        [0.4400],\n",
       "        [0.4540],\n",
       "        [0.4680],\n",
       "        [0.4820],\n",
       "        [0.4960],\n",
       "        [0.5100],\n",
       "        [0.5240],\n",
       "        [0.5380],\n",
       "        [0.5520],\n",
       "        [0.5660],\n",
       "        [0.5800],\n",
       "        [0.5940],\n",
       "        [0.6080],\n",
       "        [0.6220],\n",
       "        [0.6360],\n",
       "        [0.6500],\n",
       "        [0.6640],\n",
       "        [0.6780],\n",
       "        [0.6920],\n",
       "        [0.7060],\n",
       "        [0.7200],\n",
       "        [0.7340],\n",
       "        [0.7480],\n",
       "        [0.7620],\n",
       "        [0.7760],\n",
       "        [0.7900],\n",
       "        [0.8040],\n",
       "        [0.8180],\n",
       "        [0.8320],\n",
       "        [0.8460],\n",
       "        [0.8600],\n",
       "        [0.8740],\n",
       "        [0.8880],\n",
       "        [0.9020],\n",
       "        [0.9160],\n",
       "        [0.9300],\n",
       "        [0.9440],\n",
       "        [0.9580],\n",
       "        [0.9720],\n",
       "        [0.9860]])"
      ]
     },
     "execution_count": 3,
     "metadata": {},
     "output_type": "execute_result"
    }
   ],
   "source": [
    "# Create *known* parameters\n",
    "weight = 0.7\n",
    "bias = 0.3\n",
    "\n",
    "# Create data\n",
    "start = 0\n",
    "end = 1\n",
    "step = 0.02\n",
    "squeezed_X = torch.arange(start, end, step)\n",
    "unsqueezed_X = squeezed_X.unsqueeze(dim=1) # add extra dim\n",
    "y = weight * unsqueezed_X + bias\n",
    "y"
   ]
  },
  {
   "cell_type": "code",
   "execution_count": 4,
   "metadata": {},
   "outputs": [
    {
     "data": {
      "text/plain": [
       "(50, 50)"
      ]
     },
     "execution_count": 4,
     "metadata": {},
     "output_type": "execute_result"
    }
   ],
   "source": [
    "len(unsqueezed_X), len(y)"
   ]
  },
  {
   "cell_type": "markdown",
   "metadata": {},
   "source": [
    "### Splitting data\n",
    "\n",
    "- **GOAL:** Generalization [to perform well on data it hasn't seen before]\n",
    "    - Training set (ie: course materials)\n",
    "    - Validation set (ie: practice exam)\n",
    "    - Testing set (ie: final exam)\n",
    "\n",
    "- There's a direct mapping of training set : testing set"
   ]
  },
  {
   "cell_type": "code",
   "execution_count": 5,
   "metadata": {},
   "outputs": [
    {
     "data": {
      "text/html": [
       "<div>\n",
       "<style scoped>\n",
       "    .dataframe tbody tr th:only-of-type {\n",
       "        vertical-align: middle;\n",
       "    }\n",
       "\n",
       "    .dataframe tbody tr th {\n",
       "        vertical-align: top;\n",
       "    }\n",
       "\n",
       "    .dataframe thead th {\n",
       "        text-align: right;\n",
       "    }\n",
       "</style>\n",
       "<table border=\"1\" class=\"dataframe\">\n",
       "  <thead>\n",
       "    <tr style=\"text-align: right;\">\n",
       "      <th></th>\n",
       "      <th>0</th>\n",
       "    </tr>\n",
       "  </thead>\n",
       "  <tbody>\n",
       "    <tr>\n",
       "      <th>0</th>\n",
       "      <td>0.300</td>\n",
       "    </tr>\n",
       "    <tr>\n",
       "      <th>1</th>\n",
       "      <td>0.314</td>\n",
       "    </tr>\n",
       "    <tr>\n",
       "      <th>2</th>\n",
       "      <td>0.328</td>\n",
       "    </tr>\n",
       "    <tr>\n",
       "      <th>3</th>\n",
       "      <td>0.342</td>\n",
       "    </tr>\n",
       "    <tr>\n",
       "      <th>4</th>\n",
       "      <td>0.356</td>\n",
       "    </tr>\n",
       "    <tr>\n",
       "      <th>5</th>\n",
       "      <td>0.370</td>\n",
       "    </tr>\n",
       "    <tr>\n",
       "      <th>6</th>\n",
       "      <td>0.384</td>\n",
       "    </tr>\n",
       "    <tr>\n",
       "      <th>7</th>\n",
       "      <td>0.398</td>\n",
       "    </tr>\n",
       "    <tr>\n",
       "      <th>8</th>\n",
       "      <td>0.412</td>\n",
       "    </tr>\n",
       "    <tr>\n",
       "      <th>9</th>\n",
       "      <td>0.426</td>\n",
       "    </tr>\n",
       "    <tr>\n",
       "      <th>10</th>\n",
       "      <td>0.440</td>\n",
       "    </tr>\n",
       "    <tr>\n",
       "      <th>11</th>\n",
       "      <td>0.454</td>\n",
       "    </tr>\n",
       "    <tr>\n",
       "      <th>12</th>\n",
       "      <td>0.468</td>\n",
       "    </tr>\n",
       "    <tr>\n",
       "      <th>13</th>\n",
       "      <td>0.482</td>\n",
       "    </tr>\n",
       "    <tr>\n",
       "      <th>14</th>\n",
       "      <td>0.496</td>\n",
       "    </tr>\n",
       "    <tr>\n",
       "      <th>15</th>\n",
       "      <td>0.510</td>\n",
       "    </tr>\n",
       "    <tr>\n",
       "      <th>16</th>\n",
       "      <td>0.524</td>\n",
       "    </tr>\n",
       "    <tr>\n",
       "      <th>17</th>\n",
       "      <td>0.538</td>\n",
       "    </tr>\n",
       "    <tr>\n",
       "      <th>18</th>\n",
       "      <td>0.552</td>\n",
       "    </tr>\n",
       "    <tr>\n",
       "      <th>19</th>\n",
       "      <td>0.566</td>\n",
       "    </tr>\n",
       "    <tr>\n",
       "      <th>20</th>\n",
       "      <td>0.580</td>\n",
       "    </tr>\n",
       "    <tr>\n",
       "      <th>21</th>\n",
       "      <td>0.594</td>\n",
       "    </tr>\n",
       "    <tr>\n",
       "      <th>22</th>\n",
       "      <td>0.608</td>\n",
       "    </tr>\n",
       "    <tr>\n",
       "      <th>23</th>\n",
       "      <td>0.622</td>\n",
       "    </tr>\n",
       "    <tr>\n",
       "      <th>24</th>\n",
       "      <td>0.636</td>\n",
       "    </tr>\n",
       "    <tr>\n",
       "      <th>25</th>\n",
       "      <td>0.650</td>\n",
       "    </tr>\n",
       "    <tr>\n",
       "      <th>26</th>\n",
       "      <td>0.664</td>\n",
       "    </tr>\n",
       "    <tr>\n",
       "      <th>27</th>\n",
       "      <td>0.678</td>\n",
       "    </tr>\n",
       "    <tr>\n",
       "      <th>28</th>\n",
       "      <td>0.692</td>\n",
       "    </tr>\n",
       "    <tr>\n",
       "      <th>29</th>\n",
       "      <td>0.706</td>\n",
       "    </tr>\n",
       "    <tr>\n",
       "      <th>30</th>\n",
       "      <td>0.720</td>\n",
       "    </tr>\n",
       "    <tr>\n",
       "      <th>31</th>\n",
       "      <td>0.734</td>\n",
       "    </tr>\n",
       "    <tr>\n",
       "      <th>32</th>\n",
       "      <td>0.748</td>\n",
       "    </tr>\n",
       "    <tr>\n",
       "      <th>33</th>\n",
       "      <td>0.762</td>\n",
       "    </tr>\n",
       "    <tr>\n",
       "      <th>34</th>\n",
       "      <td>0.776</td>\n",
       "    </tr>\n",
       "    <tr>\n",
       "      <th>35</th>\n",
       "      <td>0.790</td>\n",
       "    </tr>\n",
       "    <tr>\n",
       "      <th>36</th>\n",
       "      <td>0.804</td>\n",
       "    </tr>\n",
       "    <tr>\n",
       "      <th>37</th>\n",
       "      <td>0.818</td>\n",
       "    </tr>\n",
       "    <tr>\n",
       "      <th>38</th>\n",
       "      <td>0.832</td>\n",
       "    </tr>\n",
       "    <tr>\n",
       "      <th>39</th>\n",
       "      <td>0.846</td>\n",
       "    </tr>\n",
       "    <tr>\n",
       "      <th>40</th>\n",
       "      <td>0.860</td>\n",
       "    </tr>\n",
       "    <tr>\n",
       "      <th>41</th>\n",
       "      <td>0.874</td>\n",
       "    </tr>\n",
       "    <tr>\n",
       "      <th>42</th>\n",
       "      <td>0.888</td>\n",
       "    </tr>\n",
       "    <tr>\n",
       "      <th>43</th>\n",
       "      <td>0.902</td>\n",
       "    </tr>\n",
       "    <tr>\n",
       "      <th>44</th>\n",
       "      <td>0.916</td>\n",
       "    </tr>\n",
       "    <tr>\n",
       "      <th>45</th>\n",
       "      <td>0.930</td>\n",
       "    </tr>\n",
       "    <tr>\n",
       "      <th>46</th>\n",
       "      <td>0.944</td>\n",
       "    </tr>\n",
       "    <tr>\n",
       "      <th>47</th>\n",
       "      <td>0.958</td>\n",
       "    </tr>\n",
       "    <tr>\n",
       "      <th>48</th>\n",
       "      <td>0.972</td>\n",
       "    </tr>\n",
       "    <tr>\n",
       "      <th>49</th>\n",
       "      <td>0.986</td>\n",
       "    </tr>\n",
       "  </tbody>\n",
       "</table>\n",
       "</div>"
      ],
      "text/plain": [
       "        0\n",
       "0   0.300\n",
       "1   0.314\n",
       "2   0.328\n",
       "3   0.342\n",
       "4   0.356\n",
       "5   0.370\n",
       "6   0.384\n",
       "7   0.398\n",
       "8   0.412\n",
       "9   0.426\n",
       "10  0.440\n",
       "11  0.454\n",
       "12  0.468\n",
       "13  0.482\n",
       "14  0.496\n",
       "15  0.510\n",
       "16  0.524\n",
       "17  0.538\n",
       "18  0.552\n",
       "19  0.566\n",
       "20  0.580\n",
       "21  0.594\n",
       "22  0.608\n",
       "23  0.622\n",
       "24  0.636\n",
       "25  0.650\n",
       "26  0.664\n",
       "27  0.678\n",
       "28  0.692\n",
       "29  0.706\n",
       "30  0.720\n",
       "31  0.734\n",
       "32  0.748\n",
       "33  0.762\n",
       "34  0.776\n",
       "35  0.790\n",
       "36  0.804\n",
       "37  0.818\n",
       "38  0.832\n",
       "39  0.846\n",
       "40  0.860\n",
       "41  0.874\n",
       "42  0.888\n",
       "43  0.902\n",
       "44  0.916\n",
       "45  0.930\n",
       "46  0.944\n",
       "47  0.958\n",
       "48  0.972\n",
       "49  0.986"
      ]
     },
     "execution_count": 5,
     "metadata": {},
     "output_type": "execute_result"
    }
   ],
   "source": [
    "y_df = pd.DataFrame(y.numpy())\n",
    "y_df"
   ]
  },
  {
   "cell_type": "code",
   "execution_count": 6,
   "metadata": {},
   "outputs": [
    {
     "data": {
      "text/plain": [
       "40"
      ]
     },
     "execution_count": 6,
     "metadata": {},
     "output_type": "execute_result"
    }
   ],
   "source": [
    "train_split_len = int(0.8 * len(unsqueezed_X))\n",
    "train_split_len"
   ]
  },
  {
   "cell_type": "code",
   "execution_count": 7,
   "metadata": {},
   "outputs": [
    {
     "data": {
      "text/html": [
       "<div>\n",
       "<style scoped>\n",
       "    .dataframe tbody tr th:only-of-type {\n",
       "        vertical-align: middle;\n",
       "    }\n",
       "\n",
       "    .dataframe tbody tr th {\n",
       "        vertical-align: top;\n",
       "    }\n",
       "\n",
       "    .dataframe thead th {\n",
       "        text-align: right;\n",
       "    }\n",
       "</style>\n",
       "<table border=\"1\" class=\"dataframe\">\n",
       "  <thead>\n",
       "    <tr style=\"text-align: right;\">\n",
       "      <th></th>\n",
       "      <th>0</th>\n",
       "    </tr>\n",
       "  </thead>\n",
       "  <tbody>\n",
       "    <tr>\n",
       "      <th>0</th>\n",
       "      <td>0.00</td>\n",
       "    </tr>\n",
       "    <tr>\n",
       "      <th>1</th>\n",
       "      <td>0.02</td>\n",
       "    </tr>\n",
       "    <tr>\n",
       "      <th>2</th>\n",
       "      <td>0.04</td>\n",
       "    </tr>\n",
       "    <tr>\n",
       "      <th>3</th>\n",
       "      <td>0.06</td>\n",
       "    </tr>\n",
       "    <tr>\n",
       "      <th>4</th>\n",
       "      <td>0.08</td>\n",
       "    </tr>\n",
       "    <tr>\n",
       "      <th>5</th>\n",
       "      <td>0.10</td>\n",
       "    </tr>\n",
       "    <tr>\n",
       "      <th>6</th>\n",
       "      <td>0.12</td>\n",
       "    </tr>\n",
       "    <tr>\n",
       "      <th>7</th>\n",
       "      <td>0.14</td>\n",
       "    </tr>\n",
       "    <tr>\n",
       "      <th>8</th>\n",
       "      <td>0.16</td>\n",
       "    </tr>\n",
       "    <tr>\n",
       "      <th>9</th>\n",
       "      <td>0.18</td>\n",
       "    </tr>\n",
       "    <tr>\n",
       "      <th>10</th>\n",
       "      <td>0.20</td>\n",
       "    </tr>\n",
       "    <tr>\n",
       "      <th>11</th>\n",
       "      <td>0.22</td>\n",
       "    </tr>\n",
       "    <tr>\n",
       "      <th>12</th>\n",
       "      <td>0.24</td>\n",
       "    </tr>\n",
       "    <tr>\n",
       "      <th>13</th>\n",
       "      <td>0.26</td>\n",
       "    </tr>\n",
       "    <tr>\n",
       "      <th>14</th>\n",
       "      <td>0.28</td>\n",
       "    </tr>\n",
       "    <tr>\n",
       "      <th>15</th>\n",
       "      <td>0.30</td>\n",
       "    </tr>\n",
       "    <tr>\n",
       "      <th>16</th>\n",
       "      <td>0.32</td>\n",
       "    </tr>\n",
       "    <tr>\n",
       "      <th>17</th>\n",
       "      <td>0.34</td>\n",
       "    </tr>\n",
       "    <tr>\n",
       "      <th>18</th>\n",
       "      <td>0.36</td>\n",
       "    </tr>\n",
       "    <tr>\n",
       "      <th>19</th>\n",
       "      <td>0.38</td>\n",
       "    </tr>\n",
       "    <tr>\n",
       "      <th>20</th>\n",
       "      <td>0.40</td>\n",
       "    </tr>\n",
       "    <tr>\n",
       "      <th>21</th>\n",
       "      <td>0.42</td>\n",
       "    </tr>\n",
       "    <tr>\n",
       "      <th>22</th>\n",
       "      <td>0.44</td>\n",
       "    </tr>\n",
       "    <tr>\n",
       "      <th>23</th>\n",
       "      <td>0.46</td>\n",
       "    </tr>\n",
       "    <tr>\n",
       "      <th>24</th>\n",
       "      <td>0.48</td>\n",
       "    </tr>\n",
       "    <tr>\n",
       "      <th>25</th>\n",
       "      <td>0.50</td>\n",
       "    </tr>\n",
       "    <tr>\n",
       "      <th>26</th>\n",
       "      <td>0.52</td>\n",
       "    </tr>\n",
       "    <tr>\n",
       "      <th>27</th>\n",
       "      <td>0.54</td>\n",
       "    </tr>\n",
       "    <tr>\n",
       "      <th>28</th>\n",
       "      <td>0.56</td>\n",
       "    </tr>\n",
       "    <tr>\n",
       "      <th>29</th>\n",
       "      <td>0.58</td>\n",
       "    </tr>\n",
       "    <tr>\n",
       "      <th>30</th>\n",
       "      <td>0.60</td>\n",
       "    </tr>\n",
       "    <tr>\n",
       "      <th>31</th>\n",
       "      <td>0.62</td>\n",
       "    </tr>\n",
       "    <tr>\n",
       "      <th>32</th>\n",
       "      <td>0.64</td>\n",
       "    </tr>\n",
       "    <tr>\n",
       "      <th>33</th>\n",
       "      <td>0.66</td>\n",
       "    </tr>\n",
       "    <tr>\n",
       "      <th>34</th>\n",
       "      <td>0.68</td>\n",
       "    </tr>\n",
       "    <tr>\n",
       "      <th>35</th>\n",
       "      <td>0.70</td>\n",
       "    </tr>\n",
       "    <tr>\n",
       "      <th>36</th>\n",
       "      <td>0.72</td>\n",
       "    </tr>\n",
       "    <tr>\n",
       "      <th>37</th>\n",
       "      <td>0.74</td>\n",
       "    </tr>\n",
       "    <tr>\n",
       "      <th>38</th>\n",
       "      <td>0.76</td>\n",
       "    </tr>\n",
       "    <tr>\n",
       "      <th>39</th>\n",
       "      <td>0.78</td>\n",
       "    </tr>\n",
       "    <tr>\n",
       "      <th>40</th>\n",
       "      <td>0.80</td>\n",
       "    </tr>\n",
       "    <tr>\n",
       "      <th>41</th>\n",
       "      <td>0.82</td>\n",
       "    </tr>\n",
       "    <tr>\n",
       "      <th>42</th>\n",
       "      <td>0.84</td>\n",
       "    </tr>\n",
       "    <tr>\n",
       "      <th>43</th>\n",
       "      <td>0.86</td>\n",
       "    </tr>\n",
       "    <tr>\n",
       "      <th>44</th>\n",
       "      <td>0.88</td>\n",
       "    </tr>\n",
       "    <tr>\n",
       "      <th>45</th>\n",
       "      <td>0.90</td>\n",
       "    </tr>\n",
       "    <tr>\n",
       "      <th>46</th>\n",
       "      <td>0.92</td>\n",
       "    </tr>\n",
       "    <tr>\n",
       "      <th>47</th>\n",
       "      <td>0.94</td>\n",
       "    </tr>\n",
       "    <tr>\n",
       "      <th>48</th>\n",
       "      <td>0.96</td>\n",
       "    </tr>\n",
       "    <tr>\n",
       "      <th>49</th>\n",
       "      <td>0.98</td>\n",
       "    </tr>\n",
       "  </tbody>\n",
       "</table>\n",
       "</div>"
      ],
      "text/plain": [
       "       0\n",
       "0   0.00\n",
       "1   0.02\n",
       "2   0.04\n",
       "3   0.06\n",
       "4   0.08\n",
       "5   0.10\n",
       "6   0.12\n",
       "7   0.14\n",
       "8   0.16\n",
       "9   0.18\n",
       "10  0.20\n",
       "11  0.22\n",
       "12  0.24\n",
       "13  0.26\n",
       "14  0.28\n",
       "15  0.30\n",
       "16  0.32\n",
       "17  0.34\n",
       "18  0.36\n",
       "19  0.38\n",
       "20  0.40\n",
       "21  0.42\n",
       "22  0.44\n",
       "23  0.46\n",
       "24  0.48\n",
       "25  0.50\n",
       "26  0.52\n",
       "27  0.54\n",
       "28  0.56\n",
       "29  0.58\n",
       "30  0.60\n",
       "31  0.62\n",
       "32  0.64\n",
       "33  0.66\n",
       "34  0.68\n",
       "35  0.70\n",
       "36  0.72\n",
       "37  0.74\n",
       "38  0.76\n",
       "39  0.78\n",
       "40  0.80\n",
       "41  0.82\n",
       "42  0.84\n",
       "43  0.86\n",
       "44  0.88\n",
       "45  0.90\n",
       "46  0.92\n",
       "47  0.94\n",
       "48  0.96\n",
       "49  0.98"
      ]
     },
     "execution_count": 7,
     "metadata": {},
     "output_type": "execute_result"
    }
   ],
   "source": [
    "X_df = pd.DataFrame(unsqueezed_X.numpy())\n",
    "X_df"
   ]
  },
  {
   "cell_type": "code",
   "execution_count": 8,
   "metadata": {},
   "outputs": [
    {
     "data": {
      "text/plain": [
       "(40, 40)"
      ]
     },
     "execution_count": 8,
     "metadata": {},
     "output_type": "execute_result"
    }
   ],
   "source": [
    "X_train_df, y_train_df = X_df[:train_split_len], y_df[:train_split_len]\n",
    "len(X_train_df), len(y_train_df)"
   ]
  },
  {
   "cell_type": "code",
   "execution_count": null,
   "metadata": {},
   "outputs": [],
   "source": []
  },
  {
   "cell_type": "code",
   "execution_count": 9,
   "metadata": {},
   "outputs": [
    {
     "data": {
      "text/plain": [
       "(10, 10)"
      ]
     },
     "execution_count": 9,
     "metadata": {},
     "output_type": "execute_result"
    }
   ],
   "source": [
    "X_test_df, y_test_df = X_df[train_split_len:], y_df[train_split_len:]\n",
    "len(X_test_df), len(y_test_df)"
   ]
  },
  {
   "cell_type": "markdown",
   "metadata": {},
   "source": [
    "How might we better visualize out data?"
   ]
  },
  {
   "cell_type": "code",
   "execution_count": 10,
   "metadata": {},
   "outputs": [],
   "source": [
    "def plot_predictions(train_data=X_train_df.values, train_labels=y_train_df.values, test_data=X_test_df.values, test_labels=y_test_df.values, predictions=None):\n",
    "    \"\"\"Plots training data, test data, and compares predictions\"\"\"\n",
    "\n",
    "    plt.figure(figsize=(5, 5))\n",
    "    plt.scatter(train_data, train_labels, c=\"b\", s=4, label=\"Training data\")\n",
    "    plt.scatter(test_data, test_labels, c=\"g\", s=4, label=\"Testing data\")\n",
    "\n",
    "    if predictions is not None:\n",
    "        plt.scatter(test_data, predictions, c=\"r\", s=4, label=\"Predictions\")\n",
    "    \n",
    "    plt.legend(prop={\"size\": 14})"
   ]
  },
  {
   "cell_type": "code",
   "execution_count": 11,
   "metadata": {},
   "outputs": [],
   "source": [
    "# plot_predictions()"
   ]
  },
  {
   "cell_type": "markdown",
   "metadata": {},
   "source": [
    "## 2. Build model\n",
    "\n",
    "- Using OOP in Python. See Real Python: https://realpython.com/python3-object-oriented-programming/\n",
    "- `Linear Regression Model`\n",
    "    1. Goal is to draw the line that passes as close as possible to the points [1 | P 36]\n",
    "    2. Mathematical representation [2 | P 19]\n",
    "        $$\n",
    "        y(x) = w^T \\cdot x + \\epsilon = \\sum_{j=1}^D w_j \\cdot x_j + \\epsilon\n",
    "        $$\n",
    "        \n",
    "        - $w$, weights\n",
    "        - $\\cdot$, matrix multiplication [3]\n",
    "        - $x$, input vector\n",
    "        - $\\epsilon$, residual error or learnable bias parameter between our linear predictions and the true response\n",
    "- Process:\n",
    "    1. Start with random values for our parameters $w$ and $\\epsilon$\n",
    "    2. Look at training data and adjust random our parameters $w$ and $\\epsilon$ to be what would represent the line, hence goal of the LR Model to draw the best fitting line.\n",
    "        - How? Track the gradients [slope] with keyword `require_grad = True` coming from the `torch.autograd` which provides classes and functions.\n",
    "            1. Gradient Descent (GD)\n",
    "                - [adjusts params to find best combination of params]\n",
    "                - [adjusts the params wrt the loss]\n",
    "                - Want our model to converge [approach 0 as we calculate GD]\n",
    "                - Mathematical representation [2 | P 247]\n",
    "                    $$ \\theta_{k + 1} = \\theta_k - \\eta_kg_k$$\n",
    "                - See [4] for a visualization or google gradient in ML\n",
    "            2. Backpropagation [5]"
   ]
  },
  {
   "cell_type": "code",
   "execution_count": 12,
   "metadata": {},
   "outputs": [],
   "source": [
    "# # Create a linear regression model class\n",
    "# class OriginalLinearRegressionModel(nn.Module):\n",
    "#     def __init__(self):\n",
    "#         super(OriginalLinearRegressionModel, self).__init__()\n",
    "#         # Randomly initializations our learnable model parameters\n",
    "#         self.weights = nn.Parameter(torch.randn(1, requires_grad=True, dtype=torch.float32))\n",
    "#         self.bias = nn.Parameter(torch.randn(1, requires_grad=True, dtype=torch.float32))\n",
    "\n",
    "#         # Forward method to define the computation in the model\n",
    "#     def forward(self, input_x: torch.Tensor) -> torch.Tensor:\n",
    "#         y = self.weights * input_x + self.bias\n",
    "#         return y"
   ]
  },
  {
   "cell_type": "markdown",
   "metadata": {},
   "source": [
    "### Checking the contents of our PyTorch model\n",
    "\n",
    "- Use `.parameters()`"
   ]
  },
  {
   "cell_type": "code",
   "execution_count": 13,
   "metadata": {},
   "outputs": [
    {
     "data": {
      "text/plain": [
       "<torch._C.Generator at 0x1166672f0>"
      ]
     },
     "execution_count": 13,
     "metadata": {},
     "output_type": "execute_result"
    }
   ],
   "source": [
    "# Create random seed because we initialize randomly and want to stablize our random values\n",
    "# stablize as in keep random #s same; remove manual_seed() and model params will change\n",
    "# helps with reproducing works\n",
    "stabilizer = 42\n",
    "torch.manual_seed(stabilizer)\n",
    "\n",
    "# original_linear_regression_model = OriginalLinearRegressionModel()\n",
    "\n",
    "# Check out parameters\n",
    "# original_linear_regression_model.state_dict()"
   ]
  },
  {
   "cell_type": "code",
   "execution_count": 14,
   "metadata": {},
   "outputs": [
    {
     "data": {
      "text/plain": [
       "OrderedDict([('weights', tensor([0.3367])), ('bias', tensor([0.1288]))])"
      ]
     },
     "execution_count": 14,
     "metadata": {},
     "output_type": "execute_result"
    }
   ],
   "source": [
    "# Create instance of model (this is a subclass of of nn.Module)\n",
    "linear_regression_model = LinearRegressionModel(stabilizer)\n",
    "# Check out parameters\n",
    "linear_regression_model.state_dict()"
   ]
  },
  {
   "cell_type": "markdown",
   "metadata": {},
   "source": [
    "- Want `self.weights` and `self.bias` to be close to the ideal `weights` and `bias` set above"
   ]
  },
  {
   "cell_type": "code",
   "execution_count": 15,
   "metadata": {},
   "outputs": [
    {
     "data": {
      "text/plain": [
       "(Parameter containing:\n",
       " tensor([0.3367], requires_grad=True),\n",
       " Parameter containing:\n",
       " tensor([0.1288], requires_grad=True),\n",
       " 0.7,\n",
       " 0.3)"
      ]
     },
     "execution_count": 15,
     "metadata": {},
     "output_type": "execute_result"
    }
   ],
   "source": [
    "# original_linear_regression_model.weights, original_linear_regression_model.bias, linear_regression_model.weights, linear_regression_model.bias, weight, bias\n",
    "linear_regression_model.weights, linear_regression_model.bias, weight, bias"
   ]
  },
  {
   "cell_type": "markdown",
   "metadata": {},
   "source": [
    "### Making predictions usings `torch.inference_mode()`\n",
    "\n",
    "- See how well model predicts `y_test` based on `X_test`\n",
    "- Pass data through model via `forward()` method\n",
    "- `torch.inference_mode()` \n",
    "    - Removes gradient tracking\n",
    "    - When doing inference, we're NOT training, so don't need to keep track of gradients/ how to update model\n",
    "    - Benefit is that it makes code run faster as we're NOT saving gradients"
   ]
  },
  {
   "cell_type": "code",
   "execution_count": 16,
   "metadata": {},
   "outputs": [],
   "source": [
    "# X_test, y_test"
   ]
  },
  {
   "cell_type": "code",
   "execution_count": 17,
   "metadata": {},
   "outputs": [],
   "source": [
    "# # Make predictions with model\n",
    "# with torch.inference_mode():\n",
    "#     lr_y_preds = linear_regression_model.forward(X_test)\n",
    "\n",
    "# # Similar as above, however inference_mode is preferred\n",
    "# # with torch.no_grad():\n",
    "# #     lr_y_preds = linear_regression_model.forward(X_test)\n",
    "\n",
    "# lr_y_preds"
   ]
  },
  {
   "cell_type": "code",
   "execution_count": 18,
   "metadata": {},
   "outputs": [],
   "source": [
    "# plot_predictions(predictions=lr_y_preds)"
   ]
  },
  {
   "cell_type": "markdown",
   "metadata": {},
   "source": [
    "## 3. Train model\n",
    "\n",
    "- Move from unknown params to known params or from a poor representation of data to better representation\n",
    "    - How?\n",
    "        1. **Loss function:** Calculates how poor or how wrong our model's output vs the true output\n",
    "        2. **Optimizer:** Takes into account the loss of a model and adjusts the model's parameters ($w$, $\\epsilon$) accordingly to improve the loss function\n",
    "        3. **Training loop:**\n",
    "        4. **Testing loop:**\n",
    "\n",
    "- Loss function is also called **criterion** and **cost function**\n",
    "    - Another way other than `nn.L1Loss()` is `torch.mean(torch.abs(y_pred, y_test))`\n",
    "- Learning rate is `lr` [how quickly to adjust the model's parameters\n",
    "    - A hyperparameter [something we set]\n",
    "    - Small `lr` $\\rightarrow$ small params change\n",
    "    - Large `lr` $\\rightarrow$ large params change"
   ]
  },
  {
   "cell_type": "code",
   "execution_count": 19,
   "metadata": {},
   "outputs": [],
   "source": [
    "# Setup a loss function - How wrong out model is\n",
    "loss_fn = nn.L1Loss()\n",
    "\n",
    "# Setup the SGD optimizer\n",
    "# Stochastic [random] gradient descent [adjusts parameters]\n",
    "# Communicates with the loss function by saying\n",
    "# when I randomly adjust these parameters, do we tend in the direction we want?\n",
    "# if so, keep adjusting in this direction and \n",
    "# if no, adjust in the other/another direction\n",
    "optimizer = torch.optim.SGD(params=linear_regression_model.parameters(), lr=0.01) \n",
    "\n",
    "config = [loss_fn, optimizer]"
   ]
  },
  {
   "cell_type": "markdown",
   "metadata": {},
   "source": [
    "### Building a training and testing loop in PyTorch\n",
    "\n",
    "- Requirements:\n",
    "    1. Loop through the data\n",
    "        1. Forward pass with `forward()` function to make predictions on training data\n",
    "        2. Calculate the loss to compare predictions against truel labels\n",
    "        3. Optimizer zero grad\n",
    "        4. Backpropagation pass to go backwards over the model so we can\n",
    "            1. Calculate the gradients of each param wrt the loss\n",
    "            2. Optimize by adjusting the model's params to improve the loss\n",
    "- Remember with [6]"
   ]
  },
  {
   "cell_type": "code",
   "execution_count": 20,
   "metadata": {},
   "outputs": [
    {
     "data": {
      "text/plain": [
       "(tensor([0.3367]), tensor([0.1288]))"
      ]
     },
     "execution_count": 20,
     "metadata": {},
     "output_type": "execute_result"
    }
   ],
   "source": [
    "linear_regression_model.weights.data, linear_regression_model.bias.data"
   ]
  },
  {
   "cell_type": "code",
   "execution_count": 21,
   "metadata": {},
   "outputs": [],
   "source": [
    "# # #times to loop through the training\n",
    "# # Hyperparameter\n",
    "# epochs = 200\n",
    "\n",
    "# # Track different setups (ie: lr, etc) to compare this experiment to future experiments\n",
    "# epoch_count = []\n",
    "# train_loss_values = []\n",
    "# test_loss_values = []\n",
    "\n",
    "# ### Training\n",
    "# # 0. Loop through the training\n",
    "# for epoch in range(epochs):\n",
    "#     # Set model to training model which \n",
    "#     # sets all parameters that require gradients to require gradients\n",
    "#     linear_regression_model.train()\n",
    "\n",
    "#     # 1. Foward pass\n",
    "#     lr_train_y_preds = linear_regression_model.forward(X_train)\n",
    "\n",
    "#     # 2. Calculate train loss\n",
    "#     train_loss = loss_fn(lr_train_y_preds, y_train)\n",
    "\n",
    "#     # 3. Optimizer zero grad to erase or to zero out gradiens to between 0 - 1\n",
    "#     # Get a fresh start every epoch instead of \n",
    "#     # increasing every time\n",
    "#     optimizer.zero_grad()\n",
    "\n",
    "#     # 4. Backward pass on loss wrt params\n",
    "#     train_loss.backward()\n",
    "\n",
    "#     # 5. Step the optimizer (perform gradient descent)\n",
    "#     # update parameters to get them closer to ideal parameters\n",
    "#     optimizer.step()\n",
    "\n",
    "#     ### Testing\n",
    "#     # turns off gradient tracking to make code faster as we're NOT saving gradients\n",
    "#     linear_regression_model.eval()\n",
    "#     # Predictions\n",
    "#     with torch.inference_mode():\n",
    "\n",
    "#         # 1. Foward pass\n",
    "#         lr_test_y_preds = linear_regression_model.forward(X_test)\n",
    "\n",
    "#         # 2. Calculate test loss\n",
    "#         test_loss = loss_fn(lr_test_y_preds, y_test)\n",
    "\n",
    "#     if epoch % 10 == 0:\n",
    "#         epoch_count.append(epoch)\n",
    "#         print(f\"Epoch: {epoch} | Train loss: {train_loss} | Test loss: {test_loss}\")\n",
    "#         print(f\"Parameters: {linear_regression_model.state_dict()}\")\n",
    "#         train_loss_values.append(train_loss)\n",
    "#         test_loss_values.append(test_loss)"
   ]
  },
  {
   "cell_type": "code",
   "execution_count": 22,
   "metadata": {},
   "outputs": [],
   "source": [
    "# train_loss_values, test_loss_values"
   ]
  },
  {
   "cell_type": "code",
   "execution_count": 23,
   "metadata": {},
   "outputs": [
    {
     "name": "stdout",
     "output_type": "stream",
     "text": [
      "Epoch: 0 | Train loss: 0.31288138031959534 | Test loss: 0.48106518387794495\n",
      "Parameters: OrderedDict([('weights', tensor([0.3406])), ('bias', tensor([0.1388]))])\n",
      "Epoch: 10 | Train loss: 0.1976713240146637 | Test loss: 0.3463551998138428\n",
      "Parameters: OrderedDict([('weights', tensor([0.3796])), ('bias', tensor([0.2388]))])\n",
      "Epoch: 20 | Train loss: 0.08908725529909134 | Test loss: 0.21729660034179688\n",
      "Parameters: OrderedDict([('weights', tensor([0.4184])), ('bias', tensor([0.3333]))])\n",
      "Epoch: 30 | Train loss: 0.053148526698350906 | Test loss: 0.14464017748832703\n",
      "Parameters: OrderedDict([('weights', tensor([0.4512])), ('bias', tensor([0.3768]))])\n",
      "Epoch: 40 | Train loss: 0.04543796554207802 | Test loss: 0.11360953003168106\n",
      "Parameters: OrderedDict([('weights', tensor([0.4748])), ('bias', tensor([0.3868]))])\n",
      "Epoch: 50 | Train loss: 0.04167863354086876 | Test loss: 0.09919948130846024\n",
      "Parameters: OrderedDict([('weights', tensor([0.4938])), ('bias', tensor([0.3843]))])\n",
      "Epoch: 60 | Train loss: 0.03818932920694351 | Test loss: 0.08886633068323135\n",
      "Parameters: OrderedDict([('weights', tensor([0.5116])), ('bias', tensor([0.3788]))])\n",
      "Epoch: 70 | Train loss: 0.03476089984178543 | Test loss: 0.0805937647819519\n",
      "Parameters: OrderedDict([('weights', tensor([0.5288])), ('bias', tensor([0.3718]))])\n",
      "Epoch: 80 | Train loss: 0.03132382780313492 | Test loss: 0.07232122868299484\n",
      "Parameters: OrderedDict([('weights', tensor([0.5459])), ('bias', tensor([0.3648]))])\n",
      "Epoch: 90 | Train loss: 0.02788739837706089 | Test loss: 0.06473556160926819\n",
      "Parameters: OrderedDict([('weights', tensor([0.5629])), ('bias', tensor([0.3573]))])\n",
      "Epoch: 100 | Train loss: 0.024458957836031914 | Test loss: 0.05646304413676262\n",
      "Parameters: OrderedDict([('weights', tensor([0.5800])), ('bias', tensor([0.3503]))])\n",
      "Epoch: 110 | Train loss: 0.021020207554101944 | Test loss: 0.04819049686193466\n",
      "Parameters: OrderedDict([('weights', tensor([0.5972])), ('bias', tensor([0.3433]))])\n",
      "Epoch: 120 | Train loss: 0.01758546568453312 | Test loss: 0.04060482233762741\n",
      "Parameters: OrderedDict([('weights', tensor([0.6141])), ('bias', tensor([0.3358]))])\n",
      "Epoch: 130 | Train loss: 0.014155393466353416 | Test loss: 0.03233227878808975\n",
      "Parameters: OrderedDict([('weights', tensor([0.6313])), ('bias', tensor([0.3288]))])\n",
      "Epoch: 140 | Train loss: 0.010716589167714119 | Test loss: 0.024059748277068138\n",
      "Parameters: OrderedDict([('weights', tensor([0.6485])), ('bias', tensor([0.3218]))])\n",
      "Epoch: 150 | Train loss: 0.0072835334576666355 | Test loss: 0.016474086791276932\n",
      "Parameters: OrderedDict([('weights', tensor([0.6654])), ('bias', tensor([0.3143]))])\n",
      "Epoch: 160 | Train loss: 0.0038517764769494534 | Test loss: 0.008201557211577892\n",
      "Parameters: OrderedDict([('weights', tensor([0.6826])), ('bias', tensor([0.3073]))])\n",
      "Epoch: 170 | Train loss: 0.008932482451200485 | Test loss: 0.005023092031478882\n",
      "Parameters: OrderedDict([('weights', tensor([0.6951])), ('bias', tensor([0.2993]))])\n",
      "Epoch: 180 | Train loss: 0.008932482451200485 | Test loss: 0.005023092031478882\n",
      "Parameters: OrderedDict([('weights', tensor([0.6951])), ('bias', tensor([0.2993]))])\n",
      "Epoch: 190 | Train loss: 0.008932482451200485 | Test loss: 0.005023092031478882\n",
      "Parameters: OrderedDict([('weights', tensor([0.6951])), ('bias', tensor([0.2993]))])\n"
     ]
    }
   ],
   "source": [
    "# #times to loop through the training\n",
    "# Hyperparameter\n",
    "epochs = 200\n",
    "\n",
    "# Track different setups (ie: lr, etc) to compare this experiment to future experiments\n",
    "epoch_count = []\n",
    "train_pred_values = []\n",
    "test_pred_values = []\n",
    "train_loss_values = []\n",
    "test_loss_values = []\n",
    "\n",
    "### Training\n",
    "# 0. Loop through the training\n",
    "for epoch in range(epochs):\n",
    "    \n",
    "    train_y_preds, train_loss = linear_regression_model.train_model(X_train_df, y_train_df, config)\n",
    "    test_y_preds, test_loss = linear_regression_model.interpolate_predictions(X_test_df, y_test_df, config)\n",
    "\n",
    "    if epoch % 10 == 0:\n",
    "        epoch_count.append(epoch)\n",
    "        print(f\"Epoch: {epoch} | Train loss: {train_loss} | Test loss: {test_loss}\")\n",
    "        print(f\"Parameters: {linear_regression_model.state_dict()}\")\n",
    "        train_loss_values.append(train_loss)\n",
    "        test_loss_values.append(test_loss)"
   ]
  },
  {
   "cell_type": "code",
   "execution_count": 24,
   "metadata": {},
   "outputs": [
    {
     "data": {
      "image/png": "[encoded data removed]",
      "text/plain": [
       "<Figure size 640x480 with 1 Axes>"
      ]
     },
     "metadata": {},
     "output_type": "display_data"
    }
   ],
   "source": [
    "# Plot the loss curves\n",
    "plt.plot(epoch_count, np.array(torch.tensor(train_loss_values).numpy()), label=\"Train loss\")\n",
    "plt.plot(epoch_count, test_loss_values, label=\"Test loss\")\n",
    "plt.title(\"Train & Test Loss Curves\")\n",
    "plt.ylabel(\"Loss\")\n",
    "plt.xlabel(\"Epochs\")\n",
    "plt.legend();"
   ]
  },
  {
   "cell_type": "code",
   "execution_count": null,
   "metadata": {},
   "outputs": [],
   "source": [
    "# plot_predictions(predictions=train_y_preds)"
   ]
  },
  {
   "cell_type": "code",
   "execution_count": null,
   "metadata": {},
   "outputs": [],
   "source": [
    "# test_y_preds"
   ]
  },
  {
   "cell_type": "code",
   "execution_count": null,
   "metadata": {},
   "outputs": [],
   "source": [
    "# plot_predictions(predictions=test_y_preds)"
   ]
  },
  {
   "cell_type": "markdown",
   "metadata": {},
   "source": [
    "## Save and Load Model"
   ]
  },
  {
   "cell_type": "code",
   "execution_count": null,
   "metadata": {},
   "outputs": [],
   "source": [
    "# from tkinter.filedialog import askopenfilenames, askdirectory"
   ]
  },
  {
   "cell_type": "code",
   "execution_count": null,
   "metadata": {},
   "outputs": [],
   "source": [
    "MODEL_PATH = askdirectory() + \"/\"\n",
    "MODEL_NAME = \"lr_model.pth\"\n",
    "MODEL_SAVE_PATH = MODEL_PATH + MODEL_NAME"
   ]
  },
  {
   "cell_type": "code",
   "execution_count": null,
   "metadata": {},
   "outputs": [],
   "source": [
    "# save\n",
    "# torch.save(obj=linear_regression_model.state_dict(), f=MODEL_SAVE_PATH)"
   ]
  },
  {
   "cell_type": "code",
   "execution_count": null,
   "metadata": {},
   "outputs": [],
   "source": [
    "files = askopenfilenames(title=\"Select Files\")\n",
    "print(files)"
   ]
  },
  {
   "cell_type": "code",
   "execution_count": null,
   "metadata": {},
   "outputs": [],
   "source": [
    "MODEL_FILE = files[0]\n",
    "MODEL_FILE"
   ]
  },
  {
   "cell_type": "code",
   "execution_count": null,
   "metadata": {},
   "outputs": [],
   "source": [
    "# Create new instance of model\n",
    "loaded_linear_regression_model = LinearRegressionModel()\n",
    "loaded_linear_regression_model, loaded_linear_regression_model.state_dict()"
   ]
  },
  {
   "cell_type": "code",
   "execution_count": null,
   "metadata": {},
   "outputs": [],
   "source": [
    "load_model = torch.load(f=MODEL_FILE)\n",
    "load_model"
   ]
  },
  {
   "cell_type": "code",
   "execution_count": null,
   "metadata": {},
   "outputs": [],
   "source": [
    "loaded_linear_regression_model.load_state_dict(load_model)\n",
    "loaded_linear_regression_model, loaded_linear_regression_model.state_dict()"
   ]
  },
  {
   "cell_type": "code",
   "execution_count": null,
   "metadata": {},
   "outputs": [],
   "source": [
    "linear_regression_model.state_dict()"
   ]
  },
  {
   "cell_type": "code",
   "execution_count": null,
   "metadata": {},
   "outputs": [],
   "source": [
    "# Make some predictions with loaded model\n",
    "loaded_linear_regression_model.eval()\n",
    "with torch.inference_mode():\n",
    "    loaded_model_preds = loaded_linear_regression_model.forward(X_test)\n",
    "loaded_model_preds"
   ]
  },
  {
   "cell_type": "code",
   "execution_count": null,
   "metadata": {},
   "outputs": [],
   "source": [
    "linear_regression_model.eval()\n",
    "with torch.inference_mode():\n",
    "    model_preds = linear_regression_model.forward(X_test)\n",
    "model_preds"
   ]
  },
  {
   "cell_type": "code",
   "execution_count": null,
   "metadata": {},
   "outputs": [],
   "source": [
    "model_preds == loaded_model_preds"
   ]
  },
  {
   "cell_type": "markdown",
   "metadata": {},
   "source": [
    "# References\n",
    "\n",
    "1. BOOK: Grokking ML by Luis G. Serrano\n",
    "2. BOOK: Machine Learning a Probabilistic Perpective by Kevin Murphy\n",
    "3. CODE: [Matrix Arithmetic](https://github.com/Brinkley97/lin_alg_for_ml_jason_brownlee/tree/main/part_iv_matrices/9-matricies_matrix_arithmetic) by Detravious Jamari Brinkley\n",
    "4. VIDEO: [Gradient descent, how neural networks learn | Chapter 2, Deep learning](https://www.youtube.com/watch?v=IHZwWFHWa-w&list=PLZHQObOWTQDNU6R1_67000Dx_ZCJB-3pi&index=3) by 3Blue1Brown\n",
    "5. VIDEO: [What is backpropagation really doing? | Chapter 3, Deep learning](https://www.youtube.com/watch?v=Ilg3gGewQ5U&list=PLZHQObOWTQDNU6R1_67000Dx_ZCJB-3pi&index=3) by 3Blue1Brown\n",
    "6. VIDEO: [The Unofficial PyTorch Optimization Loop Song](https://www.youtube.com/watch?v=Nutpusq_AFw) by Daniel Bourke"
   ]
  },
  {
   "cell_type": "markdown",
   "metadata": {},
   "source": []
  }
 ],
 "metadata": {
  "kernelspec": {
   "display_name": "nlp",
   "language": "python",
   "name": "python3"
  },
  "language_info": {
   "codemirror_mode": {
    "name": "ipython",
    "version": 3
   },
   "file_extension": ".py",
   "mimetype": "text/x-python",
   "name": "python",
   "nbconvert_exporter": "python",
   "pygments_lexer": "ipython3",
   "version": "3.9.16"
  }
 },
 "nbformat": 4,
 "nbformat_minor": 2
}
