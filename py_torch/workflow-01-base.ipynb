{
 "cells": [
  {
   "cell_type": "markdown",
   "metadata": {},
   "source": [
    "# PyTorch Workflow\n",
    "- TUTORIAL: [PyTorch for Deep Learning & Machine Learning – Full Course](https://www.youtube.com/watch?v=V_xro1bcAuA&t=27320s) by Daniel Bourke "
   ]
  },
  {
   "cell_type": "code",
   "execution_count": 1,
   "metadata": {},
   "outputs": [],
   "source": [
    "what_were_covering = {1: \"data (prepare and load)\",\n",
    "    2: \"build model\",\n",
    "    3: \"fitting the model to data (training)\",\n",
    "    4: \"making predictions and evaluating a model (inference)\",\n",
    "    5: \"saving and loading a model\",\n",
    "    6: \"putting it all together\"\n",
    "}"
   ]
  },
  {
   "cell_type": "code",
   "execution_count": 2,
   "metadata": {},
   "outputs": [
    {
     "data": {
      "text/plain": [
       "'2.0.0.post101'"
      ]
     },
     "execution_count": 2,
     "metadata": {},
     "output_type": "execute_result"
    }
   ],
   "source": [
    "import os\n",
    "import sys\n",
    "import torch\n",
    "\n",
    "import numpy as np\n",
    "\n",
    "import matplotlib.pyplot as plt\n",
    "\n",
    "from torch import nn\n",
    "\n",
    "torch.__version__"
   ]
  },
  {
   "cell_type": "markdown",
   "metadata": {},
   "source": [
    "## 1. Data (preparing and loading)\n",
    "\n",
    "1. Get data into a numerical representation.\n",
    "2. Build a model to learn patterns in that numerical representations.\n",
    "\n",
    "Linear Regression with known **parameters**"
   ]
  },
  {
   "cell_type": "code",
   "execution_count": 3,
   "metadata": {},
   "outputs": [
    {
     "data": {
      "text/plain": [
       "tensor([[0.3000],\n",
       "        [0.3140],\n",
       "        [0.3280],\n",
       "        [0.3420],\n",
       "        [0.3560],\n",
       "        [0.3700],\n",
       "        [0.3840],\n",
       "        [0.3980],\n",
       "        [0.4120],\n",
       "        [0.4260],\n",
       "        [0.4400],\n",
       "        [0.4540],\n",
       "        [0.4680],\n",
       "        [0.4820],\n",
       "        [0.4960],\n",
       "        [0.5100],\n",
       "        [0.5240],\n",
       "        [0.5380],\n",
       "        [0.5520],\n",
       "        [0.5660],\n",
       "        [0.5800],\n",
       "        [0.5940],\n",
       "        [0.6080],\n",
       "        [0.6220],\n",
       "        [0.6360],\n",
       "        [0.6500],\n",
       "        [0.6640],\n",
       "        [0.6780],\n",
       "        [0.6920],\n",
       "        [0.7060],\n",
       "        [0.7200],\n",
       "        [0.7340],\n",
       "        [0.7480],\n",
       "        [0.7620],\n",
       "        [0.7760],\n",
       "        [0.7900],\n",
       "        [0.8040],\n",
       "        [0.8180],\n",
       "        [0.8320],\n",
       "        [0.8460],\n",
       "        [0.8600],\n",
       "        [0.8740],\n",
       "        [0.8880],\n",
       "        [0.9020],\n",
       "        [0.9160],\n",
       "        [0.9300],\n",
       "        [0.9440],\n",
       "        [0.9580],\n",
       "        [0.9720],\n",
       "        [0.9860]])"
      ]
     },
     "execution_count": 3,
     "metadata": {},
     "output_type": "execute_result"
    }
   ],
   "source": [
    "# Create *known* parameters\n",
    "weight = 0.7\n",
    "bias = 0.3\n",
    "\n",
    "# Create data\n",
    "start = 0\n",
    "end = 1\n",
    "step = 0.02\n",
    "squeezed_X = torch.arange(start, end, step)\n",
    "unsqueezed_X = squeezed_X.unsqueeze(dim=1) # add extra dim\n",
    "y = weight * unsqueezed_X + bias\n",
    "y"
   ]
  },
  {
   "cell_type": "code",
   "execution_count": 4,
   "metadata": {},
   "outputs": [
    {
     "data": {
      "text/plain": [
       "(50, 50)"
      ]
     },
     "execution_count": 4,
     "metadata": {},
     "output_type": "execute_result"
    }
   ],
   "source": [
    "len(unsqueezed_X), len(y)"
   ]
  },
  {
   "cell_type": "markdown",
   "metadata": {},
   "source": [
    "### Splitting data\n",
    "\n",
    "- **GOAL:** Generalization [to perform well on data it hasn't seen before]\n",
    "    - Training set (ie: course materials)\n",
    "    - Validation set (ie: practice exam)\n",
    "    - Testing set (ie: final exam)\n",
    "\n",
    "- There's a direct mapping of training set : testing set"
   ]
  },
  {
   "cell_type": "code",
   "execution_count": 5,
   "metadata": {},
   "outputs": [
    {
     "data": {
      "text/plain": [
       "40"
      ]
     },
     "execution_count": 5,
     "metadata": {},
     "output_type": "execute_result"
    }
   ],
   "source": [
    "train_split_len = int(0.8 * len(unsqueezed_X))\n",
    "train_split_len"
   ]
  },
  {
   "cell_type": "code",
   "execution_count": 6,
   "metadata": {},
   "outputs": [
    {
     "data": {
      "text/plain": [
       "(40, 40)"
      ]
     },
     "execution_count": 6,
     "metadata": {},
     "output_type": "execute_result"
    }
   ],
   "source": [
    "X_train, y_train = unsqueezed_X[:train_split_len], y[:train_split_len]\n",
    "len(X_train), len(y_train)"
   ]
  },
  {
   "cell_type": "code",
   "execution_count": 7,
   "metadata": {},
   "outputs": [
    {
     "data": {
      "text/plain": [
       "(10, 10)"
      ]
     },
     "execution_count": 7,
     "metadata": {},
     "output_type": "execute_result"
    }
   ],
   "source": [
    "X_test, y_test = unsqueezed_X[train_split_len:], y[train_split_len:]\n",
    "len(X_test), len(y_test)"
   ]
  },
  {
   "cell_type": "markdown",
   "metadata": {},
   "source": [
    "How might we better visualize out data?"
   ]
  },
  {
   "cell_type": "code",
   "execution_count": 8,
   "metadata": {},
   "outputs": [],
   "source": [
    "def plot_predictions(train_data=X_train, train_labels=y_train, test_data=X_test, test_labels=y_test, predictions=None):\n",
    "    \"\"\"Plots training data, test data, and compares predictions\"\"\"\n",
    "\n",
    "    plt.figure(figsize=(5, 5))\n",
    "    plt.scatter(train_data, train_labels, c=\"b\", s=4, label=\"Training data\")\n",
    "    plt.scatter(test_data, test_labels, c=\"g\", s=4, label=\"Testing data\")\n",
    "\n",
    "    if predictions is not None:\n",
    "        plt.scatter(test_data, predictions, c=\"r\", s=4, label=\"Predictions\")\n",
    "    \n",
    "    plt.legend(prop={\"size\": 14})"
   ]
  },
  {
   "cell_type": "code",
   "execution_count": 9,
   "metadata": {},
   "outputs": [
    {
     "data": {
      "image/png": "[encoded data removed]",
      "text/plain": [
       "<Figure size 500x500 with 1 Axes>"
      ]
     },
     "metadata": {},
     "output_type": "display_data"
    }
   ],
   "source": [
    "plot_predictions()"
   ]
  },
  {
   "cell_type": "markdown",
   "metadata": {},
   "source": [
    "## 2. Build model\n",
    "\n",
    "- Using OOP in Python. See Real Python: https://realpython.com/python3-object-oriented-programming/\n",
    "- `Linear Regression Model`\n",
    "    1. Goal is to draw the line that passes as close as possible to the points [1 | P 36]\n",
    "    2. Mathematical representation [2 | P 19]\n",
    "        $$\n",
    "        y(x) = w^T \\cdot x + \\epsilon = \\sum_{j=1}^D w_j \\cdot x_j + \\epsilon\n",
    "        $$\n",
    "        \n",
    "        - $w$, weights\n",
    "        - $\\cdot$, matrix multiplication [3]\n",
    "        - $x$, input vector\n",
    "        - $\\epsilon$, residual error or learnable bias parameter between our linear predictions and the true response\n",
    "- Process:\n",
    "    1. Start with random values for our parameters $w$ and $\\epsilon$\n",
    "    2. Look at training data and adjust random our parameters $w$ and $\\epsilon$ to be what would represent the line, hence goal of the LR Model to draw the best fitting line.\n",
    "        - How? Track the gradients [slope] with keyword `require_grad = True` coming from the `torch.autograd` which provides classes and functions.\n",
    "            1. Gradient Descent (GD)\n",
    "                - [adjusts params to find best combination of params]\n",
    "                - [adjusts the params wrt the loss]\n",
    "                - Want our model to converge [approach 0 as we calculate GD]\n",
    "                - Mathematical representation [2 | P 247]\n",
    "                    $$ \\theta_{k + 1} = \\theta_k - \\eta_kg_k$$\n",
    "                - See [4] for a visualization or google gradient in ML\n",
    "            2. Backpropagation [5]"
   ]
  },
  {
   "cell_type": "code",
   "execution_count": 10,
   "metadata": {},
   "outputs": [],
   "source": [
    "# Create a linear regression model class\n",
    "class LinearRegressionModel(nn.Module):\n",
    "    def __init__(self):\n",
    "        super().__init__()\n",
    "        # Randomly initializations our learnable model parameters\n",
    "        self.weights = nn.Parameter(torch.randn(1, requires_grad=True, dtype=torch.float32))\n",
    "        self.bias = nn.Parameter(torch.randn(1, requires_grad=True, dtype=torch.float32))\n",
    "\n",
    "        # Forward method to define the computation in the model\n",
    "    def forward(self, input_x: torch.Tensor) -> torch.Tensor:\n",
    "        y = self.weights * input_x + self.bias\n",
    "        return y"
   ]
  },
  {
   "cell_type": "markdown",
   "metadata": {},
   "source": [
    "### Checking the contents of our PyTorch model\n",
    "\n",
    "- Use `.parameters()`"
   ]
  },
  {
   "cell_type": "code",
   "execution_count": 11,
   "metadata": {},
   "outputs": [
    {
     "data": {
      "text/plain": [
       "OrderedDict([('weights', tensor([0.3367])), ('bias', tensor([0.1288]))])"
      ]
     },
     "execution_count": 11,
     "metadata": {},
     "output_type": "execute_result"
    }
   ],
   "source": [
    "# Create random seed because we initialize randomly and want to stablize our random values\n",
    "# stablize as in keep random #s same; remove manual_seed() and model params will change\n",
    "# helps with reproducing works\n",
    "torch.manual_seed(42)\n",
    "\n",
    "# Create instance of model (this is a subclass of of nn.Module)\n",
    "linear_regression_model = LinearRegressionModel()\n",
    "\n",
    "# Check out parameters\n",
    "linear_regression_model.state_dict()"
   ]
  },
  {
   "cell_type": "markdown",
   "metadata": {},
   "source": [
    "- Want `self.weights` and `self.bias` to be close to the ideal `weights` and `bias` set above"
   ]
  },
  {
   "cell_type": "code",
   "execution_count": 12,
   "metadata": {},
   "outputs": [
    {
     "data": {
      "text/plain": [
       "(Parameter containing:\n",
       " tensor([0.3367], requires_grad=True),\n",
       " Parameter containing:\n",
       " tensor([0.1288], requires_grad=True),\n",
       " 0.7,\n",
       " 0.3)"
      ]
     },
     "execution_count": 12,
     "metadata": {},
     "output_type": "execute_result"
    }
   ],
   "source": [
    "linear_regression_model.weights, linear_regression_model.bias, weight, bias"
   ]
  },
  {
   "cell_type": "markdown",
   "metadata": {},
   "source": [
    "### Making predictions usings `torch.inference_mode()`\n",
    "\n",
    "- See how well model predicts `y_test` based on `X_test`\n",
    "- Pass data through model via `forward()` method\n",
    "- `torch.inference_mode()` \n",
    "    - Removes gradient tracking\n",
    "    - When doing inference, we're NOT training, so don't need to keep track of gradients/ how to update model\n",
    "    - Benefit is that it makes code run faster as we're NOT saving gradients"
   ]
  },
  {
   "cell_type": "code",
   "execution_count": 13,
   "metadata": {},
   "outputs": [
    {
     "data": {
      "text/plain": [
       "(tensor([[0.8000],\n",
       "         [0.8200],\n",
       "         [0.8400],\n",
       "         [0.8600],\n",
       "         [0.8800],\n",
       "         [0.9000],\n",
       "         [0.9200],\n",
       "         [0.9400],\n",
       "         [0.9600],\n",
       "         [0.9800]]),\n",
       " tensor([[0.8600],\n",
       "         [0.8740],\n",
       "         [0.8880],\n",
       "         [0.9020],\n",
       "         [0.9160],\n",
       "         [0.9300],\n",
       "         [0.9440],\n",
       "         [0.9580],\n",
       "         [0.9720],\n",
       "         [0.9860]]))"
      ]
     },
     "execution_count": 13,
     "metadata": {},
     "output_type": "execute_result"
    }
   ],
   "source": [
    "X_test, y_test"
   ]
  },
  {
   "cell_type": "code",
   "execution_count": 14,
   "metadata": {},
   "outputs": [
    {
     "data": {
      "text/plain": [
       "tensor([[0.3982],\n",
       "        [0.4049],\n",
       "        [0.4116],\n",
       "        [0.4184],\n",
       "        [0.4251],\n",
       "        [0.4318],\n",
       "        [0.4386],\n",
       "        [0.4453],\n",
       "        [0.4520],\n",
       "        [0.4588]])"
      ]
     },
     "execution_count": 14,
     "metadata": {},
     "output_type": "execute_result"
    }
   ],
   "source": [
    "# Make predictions with model\n",
    "with torch.inference_mode():\n",
    "    lr_y_preds = linear_regression_model.forward(X_test)\n",
    "\n",
    "# Similar as above, however inference_mode is preferred\n",
    "# with torch.no_grad():\n",
    "#     lr_y_preds = linear_regression_model.forward(X_test)\n",
    "\n",
    "lr_y_preds"
   ]
  },
  {
   "cell_type": "code",
   "execution_count": 15,
   "metadata": {},
   "outputs": [
    {
     "data": {
      "image/png": "[encoded data removed]",
      "text/plain": [
       "<Figure size 500x500 with 1 Axes>"
      ]
     },
     "metadata": {},
     "output_type": "display_data"
    }
   ],
   "source": [
    "plot_predictions(predictions=lr_y_preds)"
   ]
  },
  {
   "cell_type": "markdown",
   "metadata": {},
   "source": [
    "## 3. Train model\n",
    "\n",
    "- Move from unknown params to known params or from a poor representation of data to better representation\n",
    "    - How?\n",
    "        1. **Loss function:** Calculates how poor or how wrong our model's output vs the true output\n",
    "        2. **Optimizer:** Takes into account the loss of a model and adjusts the model's parameters ($w$, $\\epsilon$) accordingly to improve the loss function\n",
    "        3. **Training loop:**\n",
    "        4. **Testing loop:**\n",
    "\n",
    "- Loss function is also called **criterion** and **cost function**\n",
    "    - Another way other than `nn.L1Loss()` is `torch.mean(torch.abs(y_pred, y_test))`\n",
    "- Learning rate is `lr` [how quickly to adjust the model's parameters\n",
    "    - A hyperparameter [something we set]\n",
    "    - Small `lr` $\\rightarrow$ small params change\n",
    "    - Large `lr` $\\rightarrow$ large params change"
   ]
  },
  {
   "cell_type": "code",
   "execution_count": 16,
   "metadata": {},
   "outputs": [],
   "source": [
    "# Setup a loss function - How wrong out model is\n",
    "loss_fn = nn.L1Loss()\n",
    "\n",
    "# Setup the SGD optimizer\n",
    "# Stochastic [random] gradient descent [adjusts parameters]\n",
    "# Communicates with the loss function by saying\n",
    "# when I randomly adjust these parameters, do we tend in the direction we want?\n",
    "# if so, keep adjusting in this direction and \n",
    "# if no, adjust in the other/another direction\n",
    "optimizer = torch.optim.SGD(params=linear_regression_model.parameters(), lr=0.01) "
   ]
  },
  {
   "cell_type": "markdown",
   "metadata": {},
   "source": [
    "### Building a training and testing loop in PyTorch\n",
    "\n",
    "- Requirements:\n",
    "    1. Loop through the data\n",
    "        1. Forward pass with `forward()` function to make predictions on training data\n",
    "        2. Calculate the loss to compare predictions against truel labels\n",
    "        3. Optimizer zero grad\n",
    "        4. Backpropagation pass to go backwards over the model so we can\n",
    "            1. Calculate the gradients of each param wrt the loss\n",
    "            2. Optimize by adjusting the model's params to improve the loss\n",
    "- Remember with [6]"
   ]
  },
  {
   "cell_type": "code",
   "execution_count": 17,
   "metadata": {},
   "outputs": [
    {
     "data": {
      "text/plain": [
       "(tensor([0.3367]), tensor([0.1288]))"
      ]
     },
     "execution_count": 17,
     "metadata": {},
     "output_type": "execute_result"
    }
   ],
   "source": [
    "linear_regression_model.weights.data, linear_regression_model.bias.data"
   ]
  },
  {
   "cell_type": "code",
   "execution_count": 18,
   "metadata": {},
   "outputs": [
    {
     "name": "stdout",
     "output_type": "stream",
     "text": [
      "Epoch: 0 | Train loss: 0.31288138031959534 | Test loss: 0.48106518387794495\n",
      "Parameters: OrderedDict([('weights', tensor([0.3406])), ('bias', tensor([0.1388]))])\n",
      "Epoch: 10 | Train loss: 0.1976713240146637 | Test loss: 0.3463551998138428\n",
      "Parameters: OrderedDict([('weights', tensor([0.3796])), ('bias', tensor([0.2388]))])\n",
      "Epoch: 20 | Train loss: 0.08908725529909134 | Test loss: 0.21729660034179688\n",
      "Parameters: OrderedDict([('weights', tensor([0.4184])), ('bias', tensor([0.3333]))])\n",
      "Epoch: 30 | Train loss: 0.053148526698350906 | Test loss: 0.14464017748832703\n",
      "Parameters: OrderedDict([('weights', tensor([0.4512])), ('bias', tensor([0.3768]))])\n",
      "Epoch: 40 | Train loss: 0.04543796554207802 | Test loss: 0.11360953003168106\n",
      "Parameters: OrderedDict([('weights', tensor([0.4748])), ('bias', tensor([0.3868]))])\n",
      "Epoch: 50 | Train loss: 0.04167863354086876 | Test loss: 0.09919948130846024\n",
      "Parameters: OrderedDict([('weights', tensor([0.4938])), ('bias', tensor([0.3843]))])\n",
      "Epoch: 60 | Train loss: 0.03818932920694351 | Test loss: 0.08886633068323135\n",
      "Parameters: OrderedDict([('weights', tensor([0.5116])), ('bias', tensor([0.3788]))])\n",
      "Epoch: 70 | Train loss: 0.03476089984178543 | Test loss: 0.0805937647819519\n",
      "Parameters: OrderedDict([('weights', tensor([0.5288])), ('bias', tensor([0.3718]))])\n",
      "Epoch: 80 | Train loss: 0.03132382780313492 | Test loss: 0.07232122868299484\n",
      "Parameters: OrderedDict([('weights', tensor([0.5459])), ('bias', tensor([0.3648]))])\n",
      "Epoch: 90 | Train loss: 0.02788739837706089 | Test loss: 0.06473556160926819\n",
      "Parameters: OrderedDict([('weights', tensor([0.5629])), ('bias', tensor([0.3573]))])\n",
      "Epoch: 100 | Train loss: 0.024458957836031914 | Test loss: 0.05646304413676262\n",
      "Parameters: OrderedDict([('weights', tensor([0.5800])), ('bias', tensor([0.3503]))])\n",
      "Epoch: 110 | Train loss: 0.021020207554101944 | Test loss: 0.04819049686193466\n",
      "Parameters: OrderedDict([('weights', tensor([0.5972])), ('bias', tensor([0.3433]))])\n",
      "Epoch: 120 | Train loss: 0.01758546568453312 | Test loss: 0.04060482233762741\n",
      "Parameters: OrderedDict([('weights', tensor([0.6141])), ('bias', tensor([0.3358]))])\n",
      "Epoch: 130 | Train loss: 0.014155393466353416 | Test loss: 0.03233227878808975\n",
      "Parameters: OrderedDict([('weights', tensor([0.6313])), ('bias', tensor([0.3288]))])\n",
      "Epoch: 140 | Train loss: 0.010716589167714119 | Test loss: 0.024059748277068138\n",
      "Parameters: OrderedDict([('weights', tensor([0.6485])), ('bias', tensor([0.3218]))])\n",
      "Epoch: 150 | Train loss: 0.0072835334576666355 | Test loss: 0.016474086791276932\n",
      "Parameters: OrderedDict([('weights', tensor([0.6654])), ('bias', tensor([0.3143]))])\n",
      "Epoch: 160 | Train loss: 0.0038517764769494534 | Test loss: 0.008201557211577892\n",
      "Parameters: OrderedDict([('weights', tensor([0.6826])), ('bias', tensor([0.3073]))])\n",
      "Epoch: 170 | Train loss: 0.008932482451200485 | Test loss: 0.005023092031478882\n",
      "Parameters: OrderedDict([('weights', tensor([0.6951])), ('bias', tensor([0.2993]))])\n",
      "Epoch: 180 | Train loss: 0.008932482451200485 | Test loss: 0.005023092031478882\n",
      "Parameters: OrderedDict([('weights', tensor([0.6951])), ('bias', tensor([0.2993]))])\n",
      "Epoch: 190 | Train loss: 0.008932482451200485 | Test loss: 0.005023092031478882\n",
      "Parameters: OrderedDict([('weights', tensor([0.6951])), ('bias', tensor([0.2993]))])\n"
     ]
    }
   ],
   "source": [
    "# #times to loop through the training\n",
    "# Hyperparameter\n",
    "epochs = 200\n",
    "\n",
    "# Track different setups (ie: lr, etc) to compare this experiment to future experiments\n",
    "epoch_count = []\n",
    "train_loss_values = []\n",
    "test_loss_values = []\n",
    "\n",
    "### Training\n",
    "# 0. Loop through the training\n",
    "for epoch in range(epochs):\n",
    "    # Set model to training model which \n",
    "    # sets all parameters that require gradients to require gradients\n",
    "    linear_regression_model.train()\n",
    "\n",
    "    # 1. Foward pass\n",
    "    lr_train_y_preds = linear_regression_model.forward(X_train)\n",
    "\n",
    "    # 2. Calculate train loss\n",
    "    train_loss = loss_fn(lr_train_y_preds, y_train)\n",
    "\n",
    "    # 3. Optimizer zero grad to erase or to zero out gradiens to between 0 - 1\n",
    "    # Get a fresh start every epoch instead of \n",
    "    # increasing every time\n",
    "    optimizer.zero_grad()\n",
    "\n",
    "    # 4. Backward pass on loss wrt params\n",
    "    train_loss.backward()\n",
    "\n",
    "    # 5. Step the optimizer (perform gradient descent)\n",
    "    # update parameters to get them closer to ideal parameters\n",
    "    optimizer.step()\n",
    "\n",
    "    ### Testing\n",
    "    # turns off gradient tracking to make code faster as we're NOT saving gradients\n",
    "    linear_regression_model.eval()\n",
    "    # Predictions\n",
    "    with torch.inference_mode():\n",
    "\n",
    "        # 1. Foward pass\n",
    "        lr_test_y_preds = linear_regression_model.forward(X_test)\n",
    "\n",
    "        # 2. Calculate test loss\n",
    "        test_loss = loss_fn(lr_test_y_preds, y_test)\n",
    "\n",
    "    if epoch % 10 == 0:\n",
    "        epoch_count.append(epoch)\n",
    "        print(f\"Epoch: {epoch} | Train loss: {train_loss} | Test loss: {test_loss}\")\n",
    "        print(f\"Parameters: {linear_regression_model.state_dict()}\")\n",
    "        train_loss_values.append(train_loss)\n",
    "        test_loss_values.append(test_loss)"
   ]
  },
  {
   "cell_type": "code",
   "execution_count": 19,
   "metadata": {},
   "outputs": [
    {
     "data": {
      "text/plain": [
       "([tensor(0.3129, grad_fn=<MeanBackward0>),\n",
       "  tensor(0.1977, grad_fn=<MeanBackward0>),\n",
       "  tensor(0.0891, grad_fn=<MeanBackward0>),\n",
       "  tensor(0.0531, grad_fn=<MeanBackward0>),\n",
       "  tensor(0.0454, grad_fn=<MeanBackward0>),\n",
       "  tensor(0.0417, grad_fn=<MeanBackward0>),\n",
       "  tensor(0.0382, grad_fn=<MeanBackward0>),\n",
       "  tensor(0.0348, grad_fn=<MeanBackward0>),\n",
       "  tensor(0.0313, grad_fn=<MeanBackward0>),\n",
       "  tensor(0.0279, grad_fn=<MeanBackward0>),\n",
       "  tensor(0.0245, grad_fn=<MeanBackward0>),\n",
       "  tensor(0.0210, grad_fn=<MeanBackward0>),\n",
       "  tensor(0.0176, grad_fn=<MeanBackward0>),\n",
       "  tensor(0.0142, grad_fn=<MeanBackward0>),\n",
       "  tensor(0.0107, grad_fn=<MeanBackward0>),\n",
       "  tensor(0.0073, grad_fn=<MeanBackward0>),\n",
       "  tensor(0.0039, grad_fn=<MeanBackward0>),\n",
       "  tensor(0.0089, grad_fn=<MeanBackward0>),\n",
       "  tensor(0.0089, grad_fn=<MeanBackward0>),\n",
       "  tensor(0.0089, grad_fn=<MeanBackward0>)],\n",
       " [tensor(0.4811),\n",
       "  tensor(0.3464),\n",
       "  tensor(0.2173),\n",
       "  tensor(0.1446),\n",
       "  tensor(0.1136),\n",
       "  tensor(0.0992),\n",
       "  tensor(0.0889),\n",
       "  tensor(0.0806),\n",
       "  tensor(0.0723),\n",
       "  tensor(0.0647),\n",
       "  tensor(0.0565),\n",
       "  tensor(0.0482),\n",
       "  tensor(0.0406),\n",
       "  tensor(0.0323),\n",
       "  tensor(0.0241),\n",
       "  tensor(0.0165),\n",
       "  tensor(0.0082),\n",
       "  tensor(0.0050),\n",
       "  tensor(0.0050),\n",
       "  tensor(0.0050)])"
      ]
     },
     "execution_count": 19,
     "metadata": {},
     "output_type": "execute_result"
    }
   ],
   "source": [
    "train_loss_values, test_loss_values"
   ]
  },
  {
   "cell_type": "code",
   "execution_count": 20,
   "metadata": {},
   "outputs": [
    {
     "data": {
      "image/png": "[encoded data removed]",
      "text/plain": [
       "<Figure size 640x480 with 1 Axes>"
      ]
     },
     "metadata": {},
     "output_type": "display_data"
    }
   ],
   "source": [
    "# Plot the loss curves\n",
    "plt.plot(epoch_count, np.array(torch.tensor(train_loss_values).numpy()), label=\"Train loss\")\n",
    "plt.plot(epoch_count, test_loss_values, label=\"Test loss\")\n",
    "plt.title(\"Train & Test Loss Curves\")\n",
    "plt.ylabel(\"Loss\")\n",
    "plt.xlabel(\"Epochs\")\n",
    "plt.legend();"
   ]
  },
  {
   "cell_type": "code",
   "execution_count": 21,
   "metadata": {},
   "outputs": [
    {
     "data": {
      "image/png": "[encoded data removed]",
      "text/plain": [
       "<Figure size 500x500 with 1 Axes>"
      ]
     },
     "metadata": {},
     "output_type": "display_data"
    }
   ],
   "source": [
    "plot_predictions(predictions=lr_y_preds)"
   ]
  },
  {
   "cell_type": "code",
   "execution_count": 22,
   "metadata": {},
   "outputs": [
    {
     "data": {
      "image/png": "[encoded data removed]",
      "text/plain": [
       "<Figure size 500x500 with 1 Axes>"
      ]
     },
     "metadata": {},
     "output_type": "display_data"
    }
   ],
   "source": [
    "plot_predictions(predictions=lr_test_y_preds)"
   ]
  },
  {
   "cell_type": "markdown",
   "metadata": {},
   "source": [
    "## Save and Load Model"
   ]
  },
  {
   "cell_type": "code",
   "execution_count": 23,
   "metadata": {},
   "outputs": [],
   "source": [
    "from tkinter.filedialog import askopenfilenames, askdirectory"
   ]
  },
  {
   "cell_type": "code",
   "execution_count": 24,
   "metadata": {},
   "outputs": [],
   "source": [
    "MODEL_PATH = askdirectory() + \"/\"\n",
    "MODEL_NAME = \"lr_model.pth\"\n",
    "MODEL_SAVE_PATH = MODEL_PATH + MODEL_NAME"
   ]
  },
  {
   "cell_type": "code",
   "execution_count": 25,
   "metadata": {},
   "outputs": [],
   "source": [
    "# save\n",
    "# torch.save(obj=linear_regression_model.state_dict(), f=MODEL_SAVE_PATH)"
   ]
  },
  {
   "cell_type": "code",
   "execution_count": 26,
   "metadata": {},
   "outputs": [
    {
     "name": "stdout",
     "output_type": "stream",
     "text": [
      "\n"
     ]
    }
   ],
   "source": [
    "files = askopenfilenames(title=\"Select Files\")\n",
    "print(files)"
   ]
  },
  {
   "cell_type": "code",
   "execution_count": 27,
   "metadata": {},
   "outputs": [
    {
     "ename": "IndexError",
     "evalue": "string index out of range",
     "output_type": "error",
     "traceback": [
      "\u001b[0;31m---------------------------------------------------------------------------\u001b[0m",
      "\u001b[0;31mIndexError\u001b[0m                                Traceback (most recent call last)",
      "Cell \u001b[0;32mIn[27], line 1\u001b[0m\n\u001b[0;32m----> 1\u001b[0m MODEL_FILE \u001b[38;5;241m=\u001b[39m \u001b[43mfiles\u001b[49m\u001b[43m[\u001b[49m\u001b[38;5;241;43m0\u001b[39;49m\u001b[43m]\u001b[49m\n\u001b[1;32m      2\u001b[0m MODEL_FILE\n",
      "\u001b[0;31mIndexError\u001b[0m: string index out of range"
     ]
    },
    {
     "ename": "",
     "evalue": "",
     "output_type": "error",
     "traceback": [
      "\u001b[1;31mThe Kernel crashed while executing code in the current cell or a previous cell. \n",
      "\u001b[1;31mPlease review the code in the cell(s) to identify a possible cause of the failure. \n",
      "\u001b[1;31mClick <a href='https://aka.ms/vscodeJupyterKernelCrash'>here</a> for more info. \n",
      "\u001b[1;31mView Jupyter <a href='command:jupyter.viewOutput'>log</a> for further details."
     ]
    }
   ],
   "source": [
    "MODEL_FILE = files[0]\n",
    "MODEL_FILE"
   ]
  },
  {
   "cell_type": "code",
   "execution_count": null,
   "metadata": {},
   "outputs": [],
   "source": [
    "# Create new instance of model\n",
    "loaded_linear_regression_model = LinearRegressionModel()\n",
    "loaded_linear_regression_model, loaded_linear_regression_model.state_dict()"
   ]
  },
  {
   "cell_type": "code",
   "execution_count": null,
   "metadata": {},
   "outputs": [],
   "source": [
    "load_model = torch.load(f=MODEL_FILE)\n",
    "load_model"
   ]
  },
  {
   "cell_type": "code",
   "execution_count": null,
   "metadata": {},
   "outputs": [],
   "source": [
    "loaded_linear_regression_model.load_state_dict(load_model)\n",
    "loaded_linear_regression_model, loaded_linear_regression_model.state_dict()"
   ]
  },
  {
   "cell_type": "code",
   "execution_count": null,
   "metadata": {},
   "outputs": [],
   "source": [
    "linear_regression_model.state_dict()"
   ]
  },
  {
   "cell_type": "code",
   "execution_count": null,
   "metadata": {},
   "outputs": [],
   "source": [
    "# Make some predictions with loaded model\n",
    "loaded_linear_regression_model.eval()\n",
    "with torch.inference_mode():\n",
    "    loaded_model_preds = loaded_linear_regression_model.forward(X_test)\n",
    "loaded_model_preds"
   ]
  },
  {
   "cell_type": "code",
   "execution_count": null,
   "metadata": {},
   "outputs": [],
   "source": [
    "linear_regression_model.eval()\n",
    "with torch.inference_mode():\n",
    "    model_preds = linear_regression_model.forward(X_test)\n",
    "model_preds"
   ]
  },
  {
   "cell_type": "code",
   "execution_count": null,
   "metadata": {},
   "outputs": [],
   "source": [
    "model_preds == loaded_model_preds"
   ]
  },
  {
   "cell_type": "markdown",
   "metadata": {},
   "source": [
    "# References\n",
    "\n",
    "1. BOOK: Grokking ML by Luis G. Serrano\n",
    "2. BOOK: Machine Learning a Probabilistic Perpective by Kevin Murphy\n",
    "3. CODE: [Matrix Arithmetic](https://github.com/Brinkley97/lin_alg_for_ml_jason_brownlee/tree/main/part_iv_matrices/9-matricies_matrix_arithmetic) by Detravious Jamari Brinkley\n",
    "4. VIDEO: [Gradient descent, how neural networks learn | Chapter 2, Deep learning](https://www.youtube.com/watch?v=IHZwWFHWa-w&list=PLZHQObOWTQDNU6R1_67000Dx_ZCJB-3pi&index=3) by 3Blue1Brown\n",
    "5. VIDEO: [What is backpropagation really doing? | Chapter 3, Deep learning](https://www.youtube.com/watch?v=Ilg3gGewQ5U&list=PLZHQObOWTQDNU6R1_67000Dx_ZCJB-3pi&index=3) by 3Blue1Brown\n",
    "6. VIDEO: [The Unofficial PyTorch Optimization Loop Song](https://www.youtube.com/watch?v=Nutpusq_AFw) by Daniel Bourke"
   ]
  },
  {
   "cell_type": "markdown",
   "metadata": {},
   "source": []
  }
 ],
 "metadata": {
  "kernelspec": {
   "display_name": "nlp",
   "language": "python",
   "name": "python3"
  },
  "language_info": {
   "codemirror_mode": {
    "name": "ipython",
    "version": 3
   },
   "file_extension": ".py",
   "mimetype": "text/x-python",
   "name": "python",
   "nbconvert_exporter": "python",
   "pygments_lexer": "ipython3",
   "version": "3.9.16"
  }
 },
 "nbformat": 4,
 "nbformat_minor": 2
}
