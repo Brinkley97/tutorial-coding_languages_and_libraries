{
 "cells": [
  {
   "cell_type": "markdown",
   "metadata": {},
   "source": [
    "# PyTorch Workflow\n",
    "- by Daniel Bourke"
   ]
  },
  {
   "cell_type": "code",
   "execution_count": 1,
   "metadata": {},
   "outputs": [],
   "source": [
    "what_were_covering = {1: \"data (prepare and load)\",\n",
    "    2: \"build model\",\n",
    "    3: \"fitting the model to data (training)\",\n",
    "    4: \"making predictions and evaluating a model (inference)\",\n",
    "    5: \"saving and loading a model\",\n",
    "    6: \"putting it all together\"\n",
    "}"
   ]
  },
  {
   "cell_type": "code",
   "execution_count": 2,
   "metadata": {},
   "outputs": [
    {
     "data": {
      "text/plain": [
       "'2.2.0'"
      ]
     },
     "execution_count": 2,
     "metadata": {},
     "output_type": "execute_result"
    }
   ],
   "source": [
    "import torch\n",
    "from torch import nn\n",
    "import matplotlib.pyplot as plt\n",
    "\n",
    "torch.__version__"
   ]
  },
  {
   "cell_type": "markdown",
   "metadata": {},
   "source": [
    "## 1. Data (preparing and loading)\n",
    "\n",
    "1. Get data into a numerical representation.\n",
    "2. Build a model to learn patterns in that numerical representations.\n",
    "\n",
    "Linear Regression with known **parameters**"
   ]
  },
  {
   "cell_type": "code",
   "execution_count": 3,
   "metadata": {},
   "outputs": [],
   "source": [
    "# Create *known* parameters\n",
    "weight = 0.7\n",
    "bias = 0.3\n",
    "\n",
    "# Create data\n",
    "start = 0\n",
    "end = 1\n",
    "step = 0.02\n",
    "squeezed_X = torch.arange(start, end, step)\n",
    "unsqueezed_X = squeezed_X.unsqueeze(dim=1) # add extra dim\n",
    "y = weight * unsqueezed_X + bias"
   ]
  },
  {
   "cell_type": "code",
   "execution_count": 4,
   "metadata": {},
   "outputs": [],
   "source": [
    "# y"
   ]
  },
  {
   "cell_type": "code",
   "execution_count": 5,
   "metadata": {},
   "outputs": [
    {
     "data": {
      "text/plain": [
       "(50, 50)"
      ]
     },
     "execution_count": 5,
     "metadata": {},
     "output_type": "execute_result"
    }
   ],
   "source": [
    "len(unsqueezed_X), len(y)"
   ]
  },
  {
   "cell_type": "markdown",
   "metadata": {},
   "source": [
    "### Splitting data\n",
    "\n",
    "- **GOAL:** Generalization [to perform well on data it hasn't seen before]\n",
    "    - Training set (ie: course materials)\n",
    "    - Validation set (ie: practice exam)\n",
    "    - Testing set (ie: final exam)\n",
    "\n",
    "- There's a direct mapping of training set : testing set"
   ]
  },
  {
   "cell_type": "code",
   "execution_count": 6,
   "metadata": {},
   "outputs": [
    {
     "data": {
      "text/plain": [
       "40"
      ]
     },
     "execution_count": 6,
     "metadata": {},
     "output_type": "execute_result"
    }
   ],
   "source": [
    "train_split_len = int(0.8 * len(unsqueezed_X))\n",
    "train_split_len"
   ]
  },
  {
   "cell_type": "code",
   "execution_count": 7,
   "metadata": {},
   "outputs": [
    {
     "data": {
      "text/plain": [
       "(40, 40)"
      ]
     },
     "execution_count": 7,
     "metadata": {},
     "output_type": "execute_result"
    }
   ],
   "source": [
    "X_train, y_train = unsqueezed_X[:train_split_len], y[:train_split_len]\n",
    "len(X_train), len(y_train)"
   ]
  },
  {
   "cell_type": "code",
   "execution_count": 8,
   "metadata": {},
   "outputs": [
    {
     "data": {
      "text/plain": [
       "(10, 10)"
      ]
     },
     "execution_count": 8,
     "metadata": {},
     "output_type": "execute_result"
    }
   ],
   "source": [
    "X_test, y_test = unsqueezed_X[train_split_len:], y[train_split_len:]\n",
    "len(X_test), len(y_test)"
   ]
  },
  {
   "cell_type": "markdown",
   "metadata": {},
   "source": [
    "How might we better visualize out data?"
   ]
  },
  {
   "cell_type": "code",
   "execution_count": 9,
   "metadata": {},
   "outputs": [],
   "source": [
    "def plot_predictions(train_data=X_train, train_labels=y_train, test_data=X_test, test_labels=y_test, predictions=None):\n",
    "    \"\"\"Plots training data, test data, and compares predictions\"\"\"\n",
    "\n",
    "    plt.figure(figsize=(5, 5))\n",
    "    plt.scatter(train_data, train_labels, c=\"b\", s=4, label=\"Training data\")\n",
    "    plt.scatter(test_data, test_labels, c=\"g\", s=4, label=\"Testing data\")\n",
    "\n",
    "    if predictions is not None:\n",
    "        plt.scatter(test_data, predictions, c=\"r\", s=4, label=\"Predictions\")\n",
    "    \n",
    "    plt.legend(prop={\"size\": 14})"
   ]
  },
  {
   "cell_type": "code",
   "execution_count": 10,
   "metadata": {},
   "outputs": [
    {
     "data": {
      "image/png": "[encoded data removed]",
      "text/plain": [
       "<Figure size 500x500 with 1 Axes>"
      ]
     },
     "metadata": {},
     "output_type": "display_data"
    }
   ],
   "source": [
    "plot_predictions()"
   ]
  },
  {
   "cell_type": "markdown",
   "metadata": {},
   "source": [
    "## 2. Build model\n",
    "\n",
    "- Using OOP in Python. See Real Python: https://realpython.com/python3-object-oriented-programming/\n",
    "- `Linear Regression Model`\n",
    "    1. Goal is to draw the line that passes as close as possible to the points [1 | P 36]\n",
    "    2. Mathematical representation [2 | P 19]\n",
    "        $$\n",
    "        y(x) = w^T \\cdot x + \\epsilon = \\sum_{j=1}^D w_j \\cdot x_j + \\epsilon\n",
    "        $$\n",
    "        \n",
    "        - $w$, weights\n",
    "        - $\\cdot$, matrix multiplication [3]\n",
    "        - $x$, input vector\n",
    "        - $\\epsilon$, residual error or learnable bias parameter between our linear predictions and the true response\n",
    "- Process:\n",
    "    1. Start with random values for our parameters $w$ and $\\epsilon$\n",
    "    2. Look at training data and adjust random our parameters $w$ and $\\epsilon$ to be what would represent the line, hence goal of the LR Model to draw the best fitting line.\n",
    "        - How? Track the gradients [slope] with keyword `require_grad = True` coming from the `torch.autograd` which provides classes and functions.\n",
    "            1. Gradient descent\n",
    "                - [adjusts params to find best combination of params]\n",
    "                - [adjusts the params wrt the loss]\n",
    "                - Want our model to converge [approach 0 as we calculate GD]\n",
    "                - Mathematical representation [2 | P 247]\n",
    "                    $$ \\theta_{k + 1} = \\theta_k - \\eta_kg_k$$\n",
    "                - See [4] for a visualization or google gradient in ML\n",
    "            2. Backpropagation [5]"
   ]
  },
  {
   "cell_type": "code",
   "execution_count": null,
   "metadata": {},
   "outputs": [],
   "source": [
    "# Create a linear regression model class\n",
    "class LinearRegressionModel(nn.Module):\n",
    "    def __init__(self):\n",
    "        super().__init__()\n",
    "        # Randomly initializations our learnable model parameters\n",
    "        self.weights = nn.Parameter(torch.randn(1, requires_grad=True, dtype=torch.float32))\n",
    "        self.bias = nn.Parameter(torch.randn(1, requires_grad=True, dtype=torch.float32))\n",
    "\n",
    "        # Forward method to define the computation in the model\n",
    "    def forward(self, input_x: torch.Tensor) -> torch.Tensor:\n",
    "        y = self.weights * input_x + self.bias\n",
    "        return y"
   ]
  },
  {
   "cell_type": "markdown",
   "metadata": {},
   "source": [
    "### Checking the contents of our PyTorch model\n",
    "\n",
    "- Use `.parameters()`"
   ]
  },
  {
   "cell_type": "code",
   "execution_count": null,
   "metadata": {},
   "outputs": [],
   "source": [
    "# Create random seed because we initialize randomly and want to stablize our random values\n",
    "# stablize as in keep random #s same; remove manual_seed() and model params will change\n",
    "# helps with reproducing works\n",
    "torch.manual_seed(42)\n",
    "\n",
    "# Create instance of model (this is a subclass of of nn.Module)\n",
    "linear_regression_model = LinearRegressionModel()\n",
    "\n",
    "# Check out parameters\n",
    "linear_regression_model.state_dict()"
   ]
  },
  {
   "cell_type": "markdown",
   "metadata": {},
   "source": [
    "- Want `self.weights` and `self.bias` to be close to the ideal `weights` and `bias` set above"
   ]
  },
  {
   "cell_type": "code",
   "execution_count": null,
   "metadata": {},
   "outputs": [],
   "source": [
    "weight, bias"
   ]
  },
  {
   "cell_type": "markdown",
   "metadata": {},
   "source": [
    "### Making predictions usings `torch.inference_mode()`\n",
    "\n",
    "- See how well model predicts `y_test` based on `X_test`\n",
    "- Pass data through model via `forward()` method\n",
    "- `torch.inference_mode()` \n",
    "    - Removes gradient tracking\n",
    "    - When doing inference, we're NOT training, so don't need to keep track of gradients/ how to update model\n",
    "    - Benefit is that it makes code run faster as we're NOT saving gradients"
   ]
  },
  {
   "cell_type": "code",
   "execution_count": null,
   "metadata": {},
   "outputs": [],
   "source": [
    "X_test, y_test"
   ]
  },
  {
   "cell_type": "code",
   "execution_count": null,
   "metadata": {},
   "outputs": [],
   "source": [
    "# Make predictions with model\n",
    "with torch.inference_mode():\n",
    "    lr_y_preds = linear_regression_model.forward(X_test)\n",
    "\n",
    "# Similar as above, however inference_mode is preferred\n",
    "# with torch.no_grad():\n",
    "#     lr_y_preds = linear_regression_model.forward(X_test)\n",
    "\n",
    "lr_y_preds"
   ]
  },
  {
   "cell_type": "code",
   "execution_count": null,
   "metadata": {},
   "outputs": [],
   "source": [
    "plot_predictions(predictions=lr_y_preds)"
   ]
  },
  {
   "cell_type": "markdown",
   "metadata": {},
   "source": [
    "## 3. Train model\n",
    "\n",
    "- Move from unknown params to known params or from a poor representation of data to better representation\n",
    "    - How?\n",
    "        1. **Loss function:** Calculates how poor or how wrong our model's output vs the true output\n",
    "        2. **Optimizer:** Takes into account the loss of a model and adjusts the model's parameters ($w$, $\\epsilon$) accordingly to improve the loss function\n",
    "        3. **Training loop:**\n",
    "        4. **Testing loop:**\n",
    "\n",
    "- Loss function is also called **criterion** and **cost function**\n",
    "    - Another way other than `nn.L1Loss()` is `torch.mean(torch.abs(y_pred, y_test))`\n",
    "- Learning rate is `lr` [how quickly to adjust the model's parameters\n",
    "    - A hyperparameter [something we set]\n",
    "    - Small `lr` $\\rightarrow$ small params change\n",
    "    - Large `lr` $\\rightarrow$ large params change"
   ]
  },
  {
   "cell_type": "code",
   "execution_count": null,
   "metadata": {},
   "outputs": [],
   "source": [
    "# Setup a loss function - How wrong out model is\n",
    "loss_fn = nn.L1Loss()\n",
    "\n",
    "# Setup the SGD optimizer\n",
    "# Stochastic [random] gradient descent [adjusts parameters]\n",
    "# Communicates with the loss function by saying\n",
    "# when I randomly adjust these parameters, do we tend in the direction we want?\n",
    "# if so, keep adjusting in this direction and \n",
    "# if no, adjust in the other/another direction\n",
    "optimizer = torch.optim.SGD(params=linear_regression_model.parameters(), lr=0.01) "
   ]
  },
  {
   "cell_type": "markdown",
   "metadata": {},
   "source": [
    "### Building a training and testing loop in PyTorch\n",
    "\n",
    "- Requirements:\n",
    "    1. Loop through the data\n",
    "        1. Forward pass with `forward()` function to make predictions on training data\n",
    "        2. Calculate the loss to compare predictions against truel labels\n",
    "        3. Optimizer zero grad\n",
    "        4. Backpropagation pass to go backwards over the model so we can\n",
    "            1. Calculate the gradients of each param wrt the loss\n",
    "            2. Optimize by adjusting the model's params to improve the loss\n",
    "- Remember with [6]"
   ]
  },
  {
   "cell_type": "code",
   "execution_count": null,
   "metadata": {},
   "outputs": [],
   "source": [
    "# #times to loop through the training\n",
    "# Hyperparameter\n",
    "epochs = 100\n",
    "\n",
    "### Training\n",
    "# 0. Loop through the training\n",
    "for epoch in range(epochs):\n",
    "    # Set model to training model which \n",
    "    # sets all parameters that require gradients to require gradients\n",
    "    linear_regression_model.train()\n",
    "\n",
    "    # 1. Foward pass\n",
    "    lr_train_y_preds = linear_regression_model.forward(X_train)\n",
    "\n",
    "    # 2. Calculate train loss\n",
    "    train_loss = loss_fn(lr_train_y_preds, y_train)\n",
    "\n",
    "    # 3. Optimizer zero grad to erase or to zero out gradiens to between 0 - 1\n",
    "    # Get a fresh start every epoch instead of \n",
    "    # increasing every time\n",
    "    optimizer.zero_grad()\n",
    "\n",
    "    # 4. Backward pass on loss wrt params\n",
    "    train_loss.backward()\n",
    "\n",
    "    # 5. Step the optimizer (perform gradient descent)\n",
    "    # update parameters to get them closer to ideal parameters\n",
    "    optimizer.step()\n",
    "\n",
    "    ### Testing\n",
    "    # turns off gradient tracking to make code faster as we're NOT saving gradients\n",
    "    linear_regression_model.eval()\n",
    "    # Predictions\n",
    "    with torch.inference_mode():\n",
    "\n",
    "        # 1. Foward pass\n",
    "        lr_test_y_preds = linear_regression_model.forward(X_test)\n",
    "\n",
    "        # 2. Calculate test loss\n",
    "        test_loss = loss_fn(lr_test_y_preds, y_test)\n",
    "\n",
    "    if epoch % 10 == 0:\n",
    "        print(f\"Epoch: {epoch} | Train loss: {train_loss} | Test loss: {test_loss}\")\n",
    "        print(f\"Parameters: {linear_regression_model.state_dict()}\")\n",
    "        # print()"
   ]
  },
  {
   "cell_type": "code",
   "execution_count": null,
   "metadata": {},
   "outputs": [],
   "source": [
    "plot_predictions(predictions=lr_y_preds)"
   ]
  },
  {
   "cell_type": "code",
   "execution_count": null,
   "metadata": {},
   "outputs": [],
   "source": [
    "plot_predictions(predictions=lr_test_y_preds)"
   ]
  },
  {
   "cell_type": "markdown",
   "metadata": {},
   "source": [
    "# References\n",
    "\n",
    "1. BOOK: Grokking ML by Luis G. Serrano\n",
    "2. BOOK: Machine Learning a Probabilistic Perpective by Kevin Murphy\n",
    "3. CODE: [Matrix Arithmetic](https://github.com/Brinkley97/lin_alg_for_ml_jason_brownlee/tree/main/part_iv_matrices/9-matricies_matrix_arithmetic) by Detravious Jamari Brinkley\n",
    "4. VIDEO: [Gradient descent, how neural networks learn | Chapter 2, Deep learning](https://www.youtube.com/watch?v=IHZwWFHWa-w&list=PLZHQObOWTQDNU6R1_67000Dx_ZCJB-3pi&index=3) by 3Blue1Brown\n",
    "5. VIDEO: [What is backpropagation really doing? | Chapter 3, Deep learning](https://www.youtube.com/watch?v=Ilg3gGewQ5U&list=PLZHQObOWTQDNU6R1_67000Dx_ZCJB-3pi&index=3) by 3Blue1Brown\n",
    "6. VIDEO: [The Unofficial PyTorch Optimization Loop Song](https://www.youtube.com/watch?v=Nutpusq_AFw) by Daniel Bourke"
   ]
  },
  {
   "cell_type": "markdown",
   "metadata": {},
   "source": []
  }
 ],
 "metadata": {
  "kernelspec": {
   "display_name": "nlp",
   "language": "python",
   "name": "python3"
  },
  "language_info": {
   "codemirror_mode": {
    "name": "ipython",
    "version": 3
   },
   "file_extension": ".py",
   "mimetype": "text/x-python",
   "name": "python",
   "nbconvert_exporter": "python",
   "pygments_lexer": "ipython3",
   "version": "3.11.4"
  }
 },
 "nbformat": 4,
 "nbformat_minor": 2
}
