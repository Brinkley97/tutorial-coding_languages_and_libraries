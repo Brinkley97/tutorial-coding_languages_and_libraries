{
 "cells": [
  {
   "cell_type": "markdown",
   "id": "0944481c-077f-4880-ac34-548adc2acdec",
   "metadata": {},
   "source": [
    "# About\n",
    "\n",
    "- [Documentation](https://numpy.org/doc/stable/)\n",
    "- [Introduction to Numerical Computing with NumPy | SciPy 2019 Tutorial | Alex Chabot-Leclerc](https://www.youtube.com/watch?v=ZB7BZMhfPgk)\n",
    "\n",
    "- Why NumPy?\n",
    "    - could be a lot of typing w/ out\n",
    "    - Py itself is slow compared to what my pc can actually do"
   ]
  },
  {
   "cell_type": "code",
   "execution_count": null,
   "id": "b16e3e56-13f0-4f60-8ba7-b435b624f578",
   "metadata": {},
   "outputs": [],
   "source": []
  }
 ],
 "metadata": {
  "kernelspec": {
   "display_name": "Python 3 (ipykernel)",
   "language": "python",
   "name": "python3"
  },
  "language_info": {
   "codemirror_mode": {
    "name": "ipython",
    "version": 3
   },
   "file_extension": ".py",
   "mimetype": "text/x-python",
   "name": "python",
   "nbconvert_exporter": "python",
   "pygments_lexer": "ipython3",
   "version": "3.9.7"
  }
 },
 "nbformat": 4,
 "nbformat_minor": 5
}
