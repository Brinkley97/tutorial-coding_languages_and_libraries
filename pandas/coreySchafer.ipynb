{
 "cells": [
  {
   "cell_type": "markdown",
   "id": "5ac50876-cf67-4ed5-b98a-0f26df3cf6e4",
   "metadata": {},
   "source": [
    "# About\n",
    "\n",
    "- [Documentation](https://pandas.pydata.org/docs/)\n",
    "- [Python Pandas Tutorial by Corey Schafer](https://www.youtube.com/watch?v=ZyhVh-qRZPA&list=PL-osiE80TeTsWmV9i9c58mdDCSskIFdDS)\n",
    "\n",
    "- Why Pandas?\n",
    "    - For data analysis\n",
    "    - Great performance since it's built on top of numpy\n",
    "    - Can easily visualize data \n",
    "    - DataFrame (df) : rows and columns of data\n",
    "       - pandas df rows $ \\equiv $ py dictionary values $ \\leftrightarrow $ pandas df : rows :: py dictionary : values \n",
    "       - pandas df cols $ \\equiv $ py dictionary keys $ \\leftrightarrow $ pandas df : cols :: py dictionary : keys\n",
    "       - pandas df $ \\equiv $ 2D data structure\n",
    "       - multiple Series\n",
    "   - Series : rows of a single col so each col is considered a Series\n",
    "       - Series $ \\equiv $ 1D data structure"
   ]
  },
  {
   "cell_type": "markdown",
   "id": "45eab3dd-c3c4-465a-8c75-8f01e111caaf",
   "metadata": {
    "tags": []
   },
   "source": [
    "# TODOs\n",
    "1. [x] Imports and Load Data (csv)\n",
    "    - [x] See df shape with the `.shape` attribute\n",
    "    - [x] See all columns, dtypes, etc with the `.info()`\n",
    "    - [x] Get first and last X rows with `head(X)` and `tail(X)`\n",
    "    - [x] Specifically view a series by getting one of the df columns\n",
    "        - [x] Count the different values in this series with `.value_counts()`\n",
    "2. [ ] `.loc[]` and `.iloc[]`\n",
    "3. [ ] [Filter mask](https://youtu.be/Lw2rlcxScZY?t=88) and [Filter data](https://youtu.be/Lw2rlcxScZY?t=199)"
   ]
  },
  {
   "cell_type": "markdown",
   "id": "76db0ec6-a445-4f02-b746-c33da529bb08",
   "metadata": {
    "jp-MarkdownHeadingCollapsed": true,
    "tags": []
   },
   "source": [
    "## 1. Imports and Load Data (csv)"
   ]
  },
  {
   "cell_type": "code",
   "execution_count": 1,
   "id": "cfbe4a6d-84db-4294-b444-584089eb12f9",
   "metadata": {},
   "outputs": [],
   "source": [
    "import pandas as pd"
   ]
  },
  {
   "cell_type": "code",
   "execution_count": 5,
   "id": "d03ad19b-3ef7-46d0-9cb6-7d1f9f8a0a20",
   "metadata": {},
   "outputs": [],
   "source": [
    "# dataframe on survey results\n",
    "df = pd.read_csv(\"datasets/survey_results_public.csv\")\n",
    "# df"
   ]
  },
  {
   "cell_type": "code",
   "execution_count": 4,
   "id": "1fe9f4c2-ddd3-4728-9bcd-a88e4cff5fa8",
   "metadata": {},
   "outputs": [
    {
     "data": {
      "text/plain": [
       "(88883, 85)"
      ]
     },
     "execution_count": 4,
     "metadata": {},
     "output_type": "execute_result"
    }
   ],
   "source": [
    "# .shape is an attribute (rows and columns)\n",
    "df.shape"
   ]
  },
  {
   "cell_type": "code",
   "execution_count": 7,
   "id": "fb0f4477-05e3-4ee5-a87a-cbac1bfd2aaa",
   "metadata": {},
   "outputs": [],
   "source": [
    "# shape and data types\n",
    "# df.info()"
   ]
  },
  {
   "cell_type": "code",
   "execution_count": 6,
   "id": "d25a3737-199a-445e-815f-b96fde745246",
   "metadata": {},
   "outputs": [],
   "source": [
    "# see all cols; run here, then go back to cell w/ data to run\n",
    "pd.set_option('display.max_columns', 85)\n",
    "\n",
    "# run below\n",
    "pd.set_option('display.max_rows', 85)"
   ]
  },
  {
   "cell_type": "code",
   "execution_count": 8,
   "id": "cd7380cf-452f-40f0-a671-80d906e4428f",
   "metadata": {},
   "outputs": [],
   "source": [
    "# load other file - schema file (SF)\n",
    "# (SF) describes the structure of your incoming data file\n",
    "# use as a reference and can filter (will come in a later video)\n",
    "schema_df = pd.read_csv('datasets/survey_results_schema.csv')\n",
    "# schema_df"
   ]
  },
  {
   "cell_type": "code",
   "execution_count": 9,
   "id": "2d6c9a16-4182-4295-82b1-8ce7c06ec7a6",
   "metadata": {},
   "outputs": [],
   "source": [
    "# get first x rows\n",
    "# df.head(10)\n",
    "\n",
    "# get last x rows\n",
    "# df.tail()"
   ]
  },
  {
   "cell_type": "code",
   "execution_count": 13,
   "id": "7e9ff078-1e09-4e97-97b8-a4f0153b76ae",
   "metadata": {},
   "outputs": [
    {
     "name": "stdout",
     "output_type": "stream",
     "text": [
      "<class 'pandas.core.frame.DataFrame'>\n",
      "RangeIndex: 85 entries, 0 to 84\n",
      "Data columns (total 2 columns):\n",
      " #   Column        Non-Null Count  Dtype \n",
      "---  ------        --------------  ----- \n",
      " 0   Column        85 non-null     object\n",
      " 1   QuestionText  85 non-null     object\n",
      "dtypes: object(2)\n",
      "memory usage: 1.5+ KB\n"
     ]
    },
    {
     "data": {
      "text/plain": [
       "((85, 2), None)"
      ]
     },
     "execution_count": 13,
     "metadata": {},
     "output_type": "execute_result"
    }
   ],
   "source": [
    "# #rows and #cols in schema df\n",
    "schema_df.shape, schema_df.info()"
   ]
  },
  {
   "cell_type": "markdown",
   "id": "19dfa4f7-41af-4d85-b504-03680cc60078",
   "metadata": {
    "tags": []
   },
   "source": [
    "## 2. .loc[] and .iloc[]\n",
    "\n",
    "- integer location: locate specific rows and column\n",
    "- syntax for both\n",
    "    - single row : \n",
    "    - single column :\n",
    "    - multiple rows :\n",
    "    - multiple columns :"
   ]
  },
  {
   "cell_type": "code",
   "execution_count": 15,
   "id": "9042f6b0-28c5-4a14-90f5-03bc52b8e393",
   "metadata": {},
   "outputs": [
    {
     "data": {
      "text/plain": [
       "0        Yes\n",
       "1         No\n",
       "2        Yes\n",
       "3         No\n",
       "4        Yes\n",
       "        ... \n",
       "88878    Yes\n",
       "88879     No\n",
       "88880     No\n",
       "88881     No\n",
       "88882    Yes\n",
       "Name: Hobbyist, Length: 88883, dtype: object"
      ]
     },
     "execution_count": 15,
     "metadata": {},
     "output_type": "execute_result"
    }
   ],
   "source": [
    "# all Hobbyist col (also dict row); this is a Series\n",
    "df['Hobbyist']"
   ]
  },
  {
   "cell_type": "code",
   "execution_count": 16,
   "id": "4ad6792f-c91c-49f3-8ce3-d3f6d0ac0520",
   "metadata": {},
   "outputs": [
    {
     "data": {
      "text/plain": [
       "Yes    71257\n",
       "No     17626\n",
       "Name: Hobbyist, dtype: int64"
      ]
     },
     "execution_count": 16,
     "metadata": {},
     "output_type": "execute_result"
    }
   ],
   "source": [
    "# how many per different answer - yes and nos?\n",
    "df['Hobbyist'].value_counts()"
   ]
  },
  {
   "cell_type": "code",
   "execution_count": 35,
   "id": "94f93a1d-1dbf-4869-8300-0210eb7859aa",
   "metadata": {},
   "outputs": [
    {
     "data": {
      "text/plain": [
       "Respondent                                                                2\n",
       "MainBranch                           I am a student who is learning to code\n",
       "Hobbyist                                                                 No\n",
       "OpenSourcer                                         Less than once per year\n",
       "OpenSource                The quality of OSS and closed source software ...\n",
       "Employment                               Not employed, but looking for work\n",
       "Country                                              Bosnia and Herzegovina\n",
       "Student                                                      Yes, full-time\n",
       "EdLevel                   Secondary school (e.g. American high school, G...\n",
       "UndergradMajor                                                          NaN\n",
       "EduOther                  Taken an online course in programming or softw...\n",
       "OrgSize                                                                 NaN\n",
       "DevType                   Developer, desktop or enterprise applications;...\n",
       "YearsCode                                                               NaN\n",
       "Age1stCode                                                               17\n",
       "YearsCodePro                                                            NaN\n",
       "CareerSat                                                               NaN\n",
       "JobSat                                                                  NaN\n",
       "MgrIdiot                                                                NaN\n",
       "MgrMoney                                                                NaN\n",
       "MgrWant                                                                 NaN\n",
       "JobSeek                                     I am actively looking for a job\n",
       "LastHireDate                                           I've never had a job\n",
       "LastInt                                                                 NaN\n",
       "FizzBuzz                                                                NaN\n",
       "JobFactors                Financial performance or funding status of the...\n",
       "ResumeUpdate              Something else changed (education, award, medi...\n",
       "CurrencySymbol                                                          NaN\n",
       "CurrencyDesc                                                            NaN\n",
       "CompTotal                                                               NaN\n",
       "CompFreq                                                                NaN\n",
       "ConvertedComp                                                           NaN\n",
       "WorkWeekHrs                                                             NaN\n",
       "WorkPlan                                                                NaN\n",
       "WorkChallenge                                                           NaN\n",
       "WorkRemote                                                              NaN\n",
       "WorkLoc                                                                 NaN\n",
       "ImpSyn                                                                  NaN\n",
       "CodeRev                                                                 NaN\n",
       "CodeRevHrs                                                              NaN\n",
       "UnitTests                                                               NaN\n",
       "PurchaseHow                                                             NaN\n",
       "PurchaseWhat                                                            NaN\n",
       "LanguageWorkedWith                                      C++;HTML/CSS;Python\n",
       "LanguageDesireNextYear                          C++;HTML/CSS;JavaScript;SQL\n",
       "DatabaseWorkedWith                                                      NaN\n",
       "DatabaseDesireNextYear                                                MySQL\n",
       "PlatformWorkedWith                                                  Windows\n",
       "PlatformDesireNextYear                                              Windows\n",
       "WebFrameWorkedWith                                                   Django\n",
       "WebFrameDesireNextYear                                               Django\n",
       "MiscTechWorkedWith                                                      NaN\n",
       "MiscTechDesireNextYear                                                  NaN\n",
       "DevEnviron                                                     Atom;PyCharm\n",
       "OpSys                                                               Windows\n",
       "Containers                                          I do not use containers\n",
       "BlockchainOrg                                                           NaN\n",
       "BlockchainIs              Useful across many domains and could change ma...\n",
       "BetterLife                                                              Yes\n",
       "ITperson                                                                Yes\n",
       "OffOn                                                                   Yes\n",
       "SocialMedia                                                       Instagram\n",
       "Extraversion                                                         Online\n",
       "ScreenName                                                         Username\n",
       "SOVisit1st                                                             2017\n",
       "SOVisitFreq                                           Daily or almost daily\n",
       "SOVisitTo                 Find answers to specific questions;Learn how t...\n",
       "SOFindAnswer                                             3-5 times per week\n",
       "SOTimeSaved                                  Stack Overflow was much faster\n",
       "SOHowMuchTime                                                 11-30 minutes\n",
       "SOAccount                                                               Yes\n",
       "SOPartFreq                                  A few times per month or weekly\n",
       "SOJobs                    No, I knew that Stack Overflow had a job board...\n",
       "EntTeams                                No, and I don't know what those are\n",
       "SOComm                                                        Yes, somewhat\n",
       "WelcomeChange                       Just as welcome now as I felt last year\n",
       "SONewContent              Tech articles written by other developers;Indu...\n",
       "Age                                                                      19\n",
       "Gender                                                                  Man\n",
       "Trans                                                                    No\n",
       "Sexuality                                           Straight / Heterosexual\n",
       "Ethnicity                                                               NaN\n",
       "Dependents                                                               No\n",
       "SurveyLength                                          Appropriate in length\n",
       "SurveyEase                                       Neither easy nor difficult\n",
       "Name: 1, dtype: object"
      ]
     },
     "execution_count": 35,
     "metadata": {},
     "output_type": "execute_result"
    }
   ],
   "source": [
    "# 1st row - all the responses for this person\n",
    "df.loc[1]"
   ]
  },
  {
   "cell_type": "code",
   "execution_count": 36,
   "id": "0dca4f5b-6d38-4e8b-97e6-bc602c0011f3",
   "metadata": {},
   "outputs": [
    {
     "data": {
      "text/html": [
       "<div>\n",
       "<style scoped>\n",
       "    .dataframe tbody tr th:only-of-type {\n",
       "        vertical-align: middle;\n",
       "    }\n",
       "\n",
       "    .dataframe tbody tr th {\n",
       "        vertical-align: top;\n",
       "    }\n",
       "\n",
       "    .dataframe thead th {\n",
       "        text-align: right;\n",
       "    }\n",
       "</style>\n",
       "<table border=\"1\" class=\"dataframe\">\n",
       "  <thead>\n",
       "    <tr style=\"text-align: right;\">\n",
       "      <th></th>\n",
       "      <th>Hobbyist</th>\n",
       "    </tr>\n",
       "  </thead>\n",
       "  <tbody>\n",
       "    <tr>\n",
       "      <th>1</th>\n",
       "      <td>No</td>\n",
       "    </tr>\n",
       "  </tbody>\n",
       "</table>\n",
       "</div>"
      ],
      "text/plain": [
       "  Hobbyist\n",
       "1       No"
      ]
     },
     "execution_count": 36,
     "metadata": {},
     "output_type": "execute_result"
    }
   ],
   "source": [
    "# 1st row and Hobbyist col\n",
    "df.loc[[1], ['Hobbyist']]"
   ]
  },
  {
   "cell_type": "code",
   "execution_count": 30,
   "id": "7a19392e-c5bf-4bbc-918c-6b924b0e1102",
   "metadata": {},
   "outputs": [
    {
     "data": {
      "text/html": [
       "<div>\n",
       "<style scoped>\n",
       "    .dataframe tbody tr th:only-of-type {\n",
       "        vertical-align: middle;\n",
       "    }\n",
       "\n",
       "    .dataframe tbody tr th {\n",
       "        vertical-align: top;\n",
       "    }\n",
       "\n",
       "    .dataframe thead th {\n",
       "        text-align: right;\n",
       "    }\n",
       "</style>\n",
       "<table border=\"1\" class=\"dataframe\">\n",
       "  <thead>\n",
       "    <tr style=\"text-align: right;\">\n",
       "      <th></th>\n",
       "      <th>Hobbyist</th>\n",
       "    </tr>\n",
       "  </thead>\n",
       "  <tbody>\n",
       "    <tr>\n",
       "      <th>0</th>\n",
       "      <td>Yes</td>\n",
       "    </tr>\n",
       "    <tr>\n",
       "      <th>1</th>\n",
       "      <td>No</td>\n",
       "    </tr>\n",
       "    <tr>\n",
       "      <th>2</th>\n",
       "      <td>Yes</td>\n",
       "    </tr>\n",
       "    <tr>\n",
       "      <th>3</th>\n",
       "      <td>No</td>\n",
       "    </tr>\n",
       "  </tbody>\n",
       "</table>\n",
       "</div>"
      ],
      "text/plain": [
       "  Hobbyist\n",
       "0      Yes\n",
       "1       No\n",
       "2      Yes\n",
       "3       No"
      ]
     },
     "execution_count": 30,
     "metadata": {},
     "output_type": "execute_result"
    }
   ],
   "source": [
    "# 1st 3 rows and Hobbyist col\n",
    "df.loc[[0, 1, 2, 3], ['Hobbyist']]"
   ]
  },
  {
   "cell_type": "code",
   "execution_count": 32,
   "id": "4091201b-6d6c-4333-9dda-357d3cc7002b",
   "metadata": {},
   "outputs": [
    {
     "data": {
      "text/html": [
       "<div>\n",
       "<style scoped>\n",
       "    .dataframe tbody tr th:only-of-type {\n",
       "        vertical-align: middle;\n",
       "    }\n",
       "\n",
       "    .dataframe tbody tr th {\n",
       "        vertical-align: top;\n",
       "    }\n",
       "\n",
       "    .dataframe thead th {\n",
       "        text-align: right;\n",
       "    }\n",
       "</style>\n",
       "<table border=\"1\" class=\"dataframe\">\n",
       "  <thead>\n",
       "    <tr style=\"text-align: right;\">\n",
       "      <th></th>\n",
       "      <th>Hobbyist</th>\n",
       "    </tr>\n",
       "  </thead>\n",
       "  <tbody>\n",
       "    <tr>\n",
       "      <th>0</th>\n",
       "      <td>Yes</td>\n",
       "    </tr>\n",
       "    <tr>\n",
       "      <th>1</th>\n",
       "      <td>No</td>\n",
       "    </tr>\n",
       "    <tr>\n",
       "      <th>2</th>\n",
       "      <td>Yes</td>\n",
       "    </tr>\n",
       "  </tbody>\n",
       "</table>\n",
       "</div>"
      ],
      "text/plain": [
       "  Hobbyist\n",
       "0      Yes\n",
       "1       No\n",
       "2      Yes"
      ]
     },
     "execution_count": 32,
     "metadata": {},
     "output_type": "execute_result"
    }
   ],
   "source": [
    "# 1st 3 rows by slicing (last value is inclusive w/ loc) and Hobbyist col\n",
    "df.loc[0:2, ['Hobbyist']]"
   ]
  },
  {
   "cell_type": "code",
   "execution_count": 33,
   "id": "36952ccd-f342-47f6-a424-8c0eead5a89a",
   "metadata": {},
   "outputs": [
    {
     "data": {
      "text/html": [
       "<div>\n",
       "<style scoped>\n",
       "    .dataframe tbody tr th:only-of-type {\n",
       "        vertical-align: middle;\n",
       "    }\n",
       "\n",
       "    .dataframe tbody tr th {\n",
       "        vertical-align: top;\n",
       "    }\n",
       "\n",
       "    .dataframe thead th {\n",
       "        text-align: right;\n",
       "    }\n",
       "</style>\n",
       "<table border=\"1\" class=\"dataframe\">\n",
       "  <thead>\n",
       "    <tr style=\"text-align: right;\">\n",
       "      <th></th>\n",
       "      <th>Hobbyist</th>\n",
       "      <th>OpenSourcer</th>\n",
       "      <th>OpenSource</th>\n",
       "      <th>Employment</th>\n",
       "    </tr>\n",
       "  </thead>\n",
       "  <tbody>\n",
       "    <tr>\n",
       "      <th>0</th>\n",
       "      <td>Yes</td>\n",
       "      <td>Never</td>\n",
       "      <td>The quality of OSS and closed source software ...</td>\n",
       "      <td>Not employed, and not looking for work</td>\n",
       "    </tr>\n",
       "    <tr>\n",
       "      <th>1</th>\n",
       "      <td>No</td>\n",
       "      <td>Less than once per year</td>\n",
       "      <td>The quality of OSS and closed source software ...</td>\n",
       "      <td>Not employed, but looking for work</td>\n",
       "    </tr>\n",
       "    <tr>\n",
       "      <th>2</th>\n",
       "      <td>Yes</td>\n",
       "      <td>Never</td>\n",
       "      <td>The quality of OSS and closed source software ...</td>\n",
       "      <td>Employed full-time</td>\n",
       "    </tr>\n",
       "  </tbody>\n",
       "</table>\n",
       "</div>"
      ],
      "text/plain": [
       "  Hobbyist              OpenSourcer  \\\n",
       "0      Yes                    Never   \n",
       "1       No  Less than once per year   \n",
       "2      Yes                    Never   \n",
       "\n",
       "                                          OpenSource  \\\n",
       "0  The quality of OSS and closed source software ...   \n",
       "1  The quality of OSS and closed source software ...   \n",
       "2  The quality of OSS and closed source software ...   \n",
       "\n",
       "                               Employment  \n",
       "0  Not employed, and not looking for work  \n",
       "1      Not employed, but looking for work  \n",
       "2                      Employed full-time  "
      ]
     },
     "execution_count": 33,
     "metadata": {},
     "output_type": "execute_result"
    }
   ],
   "source": [
    "# 1st 3 rows by slicing (last value is inclusive w/ loc) and more col\n",
    "df.loc[0:2, ['Hobbyist', 'OpenSourcer', 'OpenSource', 'Employment']]"
   ]
  },
  {
   "cell_type": "code",
   "execution_count": 34,
   "id": "1f09c210-4488-43c6-b52e-bdfd01e8d0b6",
   "metadata": {},
   "outputs": [
    {
     "data": {
      "text/html": [
       "<div>\n",
       "<style scoped>\n",
       "    .dataframe tbody tr th:only-of-type {\n",
       "        vertical-align: middle;\n",
       "    }\n",
       "\n",
       "    .dataframe tbody tr th {\n",
       "        vertical-align: top;\n",
       "    }\n",
       "\n",
       "    .dataframe thead th {\n",
       "        text-align: right;\n",
       "    }\n",
       "</style>\n",
       "<table border=\"1\" class=\"dataframe\">\n",
       "  <thead>\n",
       "    <tr style=\"text-align: right;\">\n",
       "      <th></th>\n",
       "      <th>Hobbyist</th>\n",
       "      <th>OpenSourcer</th>\n",
       "      <th>OpenSource</th>\n",
       "      <th>Employment</th>\n",
       "    </tr>\n",
       "  </thead>\n",
       "  <tbody>\n",
       "    <tr>\n",
       "      <th>0</th>\n",
       "      <td>Yes</td>\n",
       "      <td>Never</td>\n",
       "      <td>The quality of OSS and closed source software ...</td>\n",
       "      <td>Not employed, and not looking for work</td>\n",
       "    </tr>\n",
       "    <tr>\n",
       "      <th>1</th>\n",
       "      <td>No</td>\n",
       "      <td>Less than once per year</td>\n",
       "      <td>The quality of OSS and closed source software ...</td>\n",
       "      <td>Not employed, but looking for work</td>\n",
       "    </tr>\n",
       "    <tr>\n",
       "      <th>2</th>\n",
       "      <td>Yes</td>\n",
       "      <td>Never</td>\n",
       "      <td>The quality of OSS and closed source software ...</td>\n",
       "      <td>Employed full-time</td>\n",
       "    </tr>\n",
       "  </tbody>\n",
       "</table>\n",
       "</div>"
      ],
      "text/plain": [
       "  Hobbyist              OpenSourcer  \\\n",
       "0      Yes                    Never   \n",
       "1       No  Less than once per year   \n",
       "2      Yes                    Never   \n",
       "\n",
       "                                          OpenSource  \\\n",
       "0  The quality of OSS and closed source software ...   \n",
       "1  The quality of OSS and closed source software ...   \n",
       "2  The quality of OSS and closed source software ...   \n",
       "\n",
       "                               Employment  \n",
       "0  Not employed, and not looking for work  \n",
       "1      Not employed, but looking for work  \n",
       "2                      Employed full-time  "
      ]
     },
     "execution_count": 34,
     "metadata": {},
     "output_type": "execute_result"
    }
   ],
   "source": [
    "# 1st 3 rows by slicing (last value is inclusive w/ loc) and more col by slicing\n",
    "df.loc[0:2, 'Hobbyist' : 'Employment']"
   ]
  },
  {
   "cell_type": "markdown",
   "id": "b7aab4dd-6931-4a0f-9e2e-18bd26bbea3e",
   "metadata": {
    "tags": []
   },
   "source": [
    "## 3. Filter mask and Filter data\n",
    "\n",
    "- [Filter mask](https://youtu.be/Lw2rlcxScZY?t=88) : get boolean values\n",
    "- [Filter data](https://youtu.be/Lw2rlcxScZY?t=199) : see filter mask as df"
   ]
  },
  {
   "cell_type": "code",
   "execution_count": null,
   "id": "fa5c4bd0-24ff-4be2-8b69-5a53c3d28099",
   "metadata": {},
   "outputs": [],
   "source": []
  }
 ],
 "metadata": {
  "kernelspec": {
   "display_name": "Python 3 (ipykernel)",
   "language": "python",
   "name": "python3"
  },
  "language_info": {
   "codemirror_mode": {
    "name": "ipython",
    "version": 3
   },
   "file_extension": ".py",
   "mimetype": "text/x-python",
   "name": "python",
   "nbconvert_exporter": "python",
   "pygments_lexer": "ipython3",
   "version": "3.9.7"
  }
 },
 "nbformat": 4,
 "nbformat_minor": 5
}
