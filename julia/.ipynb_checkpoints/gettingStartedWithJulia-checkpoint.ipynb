{
 "cells": [
  {
   "cell_type": "markdown",
   "id": "57a8cec8-d65a-4482-a3a2-1c6f44213e55",
   "metadata": {},
   "source": [
    "# Getting Started\n",
    "- TUTORIAL: [Getting Started](https://juliaacademy.com/courses/375479/lectures/5815852) by Julia Academy"
   ]
  },
  {
   "cell_type": "markdown",
   "id": "4720b572-de30-40d9-8868-e513a2e8fe29",
   "metadata": {},
   "source": [
    "# How to print"
   ]
  },
  {
   "cell_type": "code",
   "execution_count": 1,
   "id": "b8db4ded-55a6-44b3-a421-3505c0fc7a1e",
   "metadata": {},
   "outputs": [
    {
     "name": "stdout",
     "output_type": "stream",
     "text": [
      "I'm excited to learn Julia!\n"
     ]
    }
   ],
   "source": [
    "println(\"I'm excited to learn Julia!\")"
   ]
  },
  {
   "cell_type": "markdown",
   "id": "4dd49cd8-1101-435c-b861-e96f6b1bda12",
   "metadata": {},
   "source": [
    "# How to assign variables\n",
    "- Dynamic typing declare, assign, and Julia will determine the type. Differs from C++, Java, etc where we have to state the type. Java: `int my_answer = 42`"
   ]
  },
  {
   "cell_type": "code",
   "execution_count": 2,
   "id": "7b69e6e1-b2da-4717-be42-c7edacca099b",
   "metadata": {},
   "outputs": [
    {
     "data": {
      "text/plain": [
       "Int64"
      ]
     },
     "execution_count": 2,
     "metadata": {},
     "output_type": "execute_result"
    }
   ],
   "source": [
    "my_answer = 42\n",
    "typeof(my_answer)"
   ]
  },
  {
   "cell_type": "code",
   "execution_count": 3,
   "id": "43998a1d-b251-4577-a0d9-6fbdb46d69e7",
   "metadata": {},
   "outputs": [
    {
     "data": {
      "text/plain": [
       "Float64"
      ]
     },
     "execution_count": 3,
     "metadata": {},
     "output_type": "execute_result"
    }
   ],
   "source": [
    "my_pi = 3.14159\n",
    "typeof(my_pi)"
   ]
  },
  {
   "cell_type": "markdown",
   "id": "294ea5f3-d8f0-4f84-b768-9e800e596eb6",
   "metadata": {},
   "source": [
    "Emojis are unicode characters"
   ]
  },
  {
   "cell_type": "code",
   "execution_count": 4,
   "id": "8fa03995-171a-4bd4-8e6c-9daafc975286",
   "metadata": {},
   "outputs": [
    {
     "data": {
      "text/plain": [
       "1"
      ]
     },
     "execution_count": 4,
     "metadata": {},
     "output_type": "execute_result"
    }
   ],
   "source": [
    "💪🏾 = 1"
   ]
  },
  {
   "cell_type": "code",
   "execution_count": 5,
   "id": "32426ade-7e72-41e2-a2f8-fdf7a939aaa4",
   "metadata": {},
   "outputs": [
    {
     "data": {
      "text/plain": [
       "Int64"
      ]
     },
     "execution_count": 5,
     "metadata": {},
     "output_type": "execute_result"
    }
   ],
   "source": [
    "typeof(💪🏾)"
   ]
  },
  {
   "cell_type": "markdown",
   "id": "ba64cbcb-6ba7-4ad0-99f6-3ef094bc5cb3",
   "metadata": {},
   "source": [
    "# How to comments"
   ]
  },
  {
   "cell_type": "code",
   "execution_count": 6,
   "id": "4de3074b-d567-4043-a4cd-ddfb9466a8b3",
   "metadata": {},
   "outputs": [
    {
     "data": {
      "text/plain": [
       "5"
      ]
     },
     "execution_count": 6,
     "metadata": {},
     "output_type": "execute_result"
    }
   ],
   "source": [
    "# 1 + 1\n",
    "2 + 3"
   ]
  },
  {
   "cell_type": "code",
   "execution_count": 7,
   "id": "7b8e2a7f-12e5-4b6a-a45c-8d6428915d4b",
   "metadata": {},
   "outputs": [],
   "source": [
    "#=\n",
    "1 + 1\n",
    "=#"
   ]
  },
  {
   "cell_type": "markdown",
   "id": "029614fc-64fd-4fd0-a752-3d7fe47884e9",
   "metadata": {},
   "source": [
    "# Basic Math"
   ]
  },
  {
   "cell_type": "code",
   "execution_count": 8,
   "id": "9e2e9d50-9afd-48ac-b80b-153b76875577",
   "metadata": {},
   "outputs": [
    {
     "data": {
      "text/plain": [
       "100"
      ]
     },
     "execution_count": 8,
     "metadata": {},
     "output_type": "execute_result"
    }
   ],
   "source": [
    "power = 10 ^ 2"
   ]
  },
  {
   "cell_type": "markdown",
   "id": "949ad1be-55bb-49ec-a12f-e4868019792c",
   "metadata": {},
   "source": [
    "# Exercises"
   ]
  },
  {
   "cell_type": "markdown",
   "id": "51bbaa9a-6417-4801-a2bb-75bc18605dce",
   "metadata": {},
   "source": [
    "## 1.2 \n",
    "\n",
    "Assign `365` to a variable names `days`. Convert `days` to a float and assign it to variable `days_float`"
   ]
  },
  {
   "cell_type": "code",
   "execution_count": 9,
   "id": "5a128854-43c0-422e-a5e5-99042f241f2c",
   "metadata": {},
   "outputs": [
    {
     "data": {
      "text/plain": [
       "Int64"
      ]
     },
     "execution_count": 9,
     "metadata": {},
     "output_type": "execute_result"
    }
   ],
   "source": [
    "days = 365\n",
    "typeof(days)"
   ]
  },
  {
   "cell_type": "code",
   "execution_count": 10,
   "id": "f688105d-4864-4408-9b84-323a9ad6b62f",
   "metadata": {},
   "outputs": [
    {
     "data": {
      "text/plain": [
       "Float32"
      ]
     },
     "execution_count": 10,
     "metadata": {},
     "output_type": "execute_result"
    }
   ],
   "source": [
    "days_float = convert(Float32, days)\n",
    "typeof(days_float)"
   ]
  },
  {
   "cell_type": "code",
   "execution_count": 11,
   "id": "239b1dff-b61a-47bf-b757-a397f8b9d9d3",
   "metadata": {},
   "outputs": [],
   "source": [
    "@assert days == 365\n",
    "@assert days_float == 365.0"
   ]
  },
  {
   "cell_type": "code",
   "execution_count": 12,
   "id": "d6e4a911-16cf-4b7e-9a0f-34a18310209f",
   "metadata": {},
   "outputs": [
    {
     "data": {
      "text/plain": [
       "(Int64, 365)"
      ]
     },
     "execution_count": 12,
     "metadata": {},
     "output_type": "execute_result"
    }
   ],
   "source": [
    "typeof(days), days"
   ]
  },
  {
   "cell_type": "code",
   "execution_count": 13,
   "id": "a1f591b5-84dd-415d-ab70-78ba71461289",
   "metadata": {},
   "outputs": [
    {
     "data": {
      "text/plain": [
       "(Float32, 365.0f0)"
      ]
     },
     "execution_count": 13,
     "metadata": {},
     "output_type": "execute_result"
    }
   ],
   "source": [
    "typeof(days_float), days_float"
   ]
  },
  {
   "cell_type": "markdown",
   "id": "0ba570b2-5613-49cd-941c-903abdc2ac79",
   "metadata": {},
   "source": [
    "## 1.3\n",
    "\n",
    "See what happens with both cells below"
   ]
  },
  {
   "cell_type": "code",
   "execution_count": 14,
   "id": "e37fbe50-db26-499c-97f7-53907637044e",
   "metadata": {},
   "outputs": [
    {
     "ename": "LoadError",
     "evalue": "MethodError: \u001b[0mCannot `convert` an object of type \u001b[92mString\u001b[39m\u001b[0m to an object of type \u001b[91mInt64\u001b[39m\n\u001b[0mClosest candidates are:\n\u001b[0m  convert(::Type{T}, \u001b[91m::T\u001b[39m) where T<:Number at number.jl:6\n\u001b[0m  convert(::Type{T}, \u001b[91m::Number\u001b[39m) where T<:Number at number.jl:7\n\u001b[0m  convert(::Type{T}, \u001b[91m::Base.TwicePrecision\u001b[39m) where T<:Number at twiceprecision.jl:250\n\u001b[0m  ...",
     "output_type": "error",
     "traceback": [
      "MethodError: \u001b[0mCannot `convert` an object of type \u001b[92mString\u001b[39m\u001b[0m to an object of type \u001b[91mInt64\u001b[39m\n\u001b[0mClosest candidates are:\n\u001b[0m  convert(::Type{T}, \u001b[91m::T\u001b[39m) where T<:Number at number.jl:6\n\u001b[0m  convert(::Type{T}, \u001b[91m::Number\u001b[39m) where T<:Number at number.jl:7\n\u001b[0m  convert(::Type{T}, \u001b[91m::Base.TwicePrecision\u001b[39m) where T<:Number at twiceprecision.jl:250\n\u001b[0m  ...",
      "",
      "Stacktrace:",
      " [1] top-level scope",
      "   @ In[14]:1"
     ]
    }
   ],
   "source": [
    "convert(Int64, \"1\")"
   ]
  },
  {
   "cell_type": "code",
   "execution_count": 15,
   "id": "1ffbc740-60f7-446b-aff7-042105e130b5",
   "metadata": {},
   "outputs": [
    {
     "data": {
      "text/plain": [
       "1"
      ]
     },
     "execution_count": 15,
     "metadata": {},
     "output_type": "execute_result"
    }
   ],
   "source": [
    "parse(Int64, \"1\")"
   ]
  },
  {
   "cell_type": "markdown",
   "id": "6e89dece-4909-420f-a039-cea2734bb895",
   "metadata": {},
   "source": [
    "# String interpolation"
   ]
  },
  {
   "cell_type": "code",
   "execution_count": 2,
   "id": "6f647cd4-a056-4aab-937e-629da64b1644",
   "metadata": {},
   "outputs": [
    {
     "name": "stdout",
     "output_type": "stream",
     "text": [
      "My name is Tre\n"
     ]
    }
   ],
   "source": [
    "name = \"Tre\"\n",
    "println(\"My name is $name\")"
   ]
  },
  {
   "cell_type": "code",
   "execution_count": 3,
   "id": "ca0665e2-9005-4e04-bee8-76e3c643a6c5",
   "metadata": {},
   "outputs": [
    {
     "name": "stdout",
     "output_type": "stream",
     "text": [
      "I have 10 and 10. That is 20.\n"
     ]
    }
   ],
   "source": [
    "number_toes = 10\n",
    "number_fingers = 10\n",
    "\n",
    "println(\"I have $number_toes and $number_fingers. That is $(number_toes + number_fingers).\")"
   ]
  },
  {
   "cell_type": "code",
   "execution_count": 5,
   "id": "7d793a5c-9869-4375-8283-e2eca80307a2",
   "metadata": {},
   "outputs": [
    {
     "data": {
      "text/plain": [
       "\"Tre Brinkley\""
      ]
     },
     "execution_count": 5,
     "metadata": {},
     "output_type": "execute_result"
    }
   ],
   "source": [
    "last_name = \"Brinkley\"\n",
    "\"$name $last_name\""
   ]
  },
  {
   "cell_type": "markdown",
   "id": "9cd6ad1d-e3e7-4d08-a406-bdbff7323050",
   "metadata": {},
   "source": [
    "# Data structures\n",
    "\n",
    "1. Order: tuples and arrays are orderred and dictionaries are NOT\n",
    "2. Mutability: tuples are immutable (can NOT change after the creation) and arrays and dictionaries are mutable (can change after the creation). "
   ]
  },
  {
   "cell_type": "markdown",
   "id": "fe345d48-0491-4f97-a71c-1177d58b2baf",
   "metadata": {},
   "source": [
    "## Dictionaries"
   ]
  },
  {
   "cell_type": "code",
   "execution_count": 20,
   "id": "0428ec94-e05e-4e43-8a4f-341b2f8ffd54",
   "metadata": {},
   "outputs": [
    {
     "data": {
      "text/plain": [
       "Dict{String, String} with 2 entries:\n",
       "  \"Tre\"      => \"123\"\n",
       "  \"Brinkley\" => \"456\""
      ]
     },
     "execution_count": 20,
     "metadata": {},
     "output_type": "execute_result"
    }
   ],
   "source": [
    "# create dictionary \n",
    "my_first_julia_dict = Dict(\"Tre\" => \"123\", \"Brinkley\" => \"456\")"
   ]
  },
  {
   "cell_type": "code",
   "execution_count": 21,
   "id": "a468c723-9578-4e99-b736-d237f3d3a6da",
   "metadata": {},
   "outputs": [
    {
     "data": {
      "text/plain": [
       "\"789\""
      ]
     },
     "execution_count": 21,
     "metadata": {},
     "output_type": "execute_result"
    }
   ],
   "source": [
    "# add entry to dictionary\n",
    "my_first_julia_dict[\"Detravious\"] = \"789\""
   ]
  },
  {
   "cell_type": "code",
   "execution_count": 22,
   "id": "224f0089-9cb2-4c9c-956a-60e1120be13b",
   "metadata": {},
   "outputs": [
    {
     "data": {
      "text/plain": [
       "Dict{String, String} with 3 entries:\n",
       "  \"Detravious\" => \"789\"\n",
       "  \"Tre\"        => \"123\"\n",
       "  \"Brinkley\"   => \"456\""
      ]
     },
     "execution_count": 22,
     "metadata": {},
     "output_type": "execute_result"
    }
   ],
   "source": [
    "my_first_julia_dict"
   ]
  },
  {
   "cell_type": "code",
   "execution_count": 23,
   "id": "855c98fa-80b8-4b2c-947f-81ba66457661",
   "metadata": {},
   "outputs": [
    {
     "data": {
      "text/plain": [
       "\"123\""
      ]
     },
     "execution_count": 23,
     "metadata": {},
     "output_type": "execute_result"
    }
   ],
   "source": [
    "my_first_julia_dict[\"Tre\"]"
   ]
  },
  {
   "cell_type": "code",
   "execution_count": 24,
   "id": "aac4e762-8a5e-4938-bc5e-b6e2041949c6",
   "metadata": {},
   "outputs": [
    {
     "data": {
      "text/plain": [
       "\"123\""
      ]
     },
     "execution_count": 24,
     "metadata": {},
     "output_type": "execute_result"
    }
   ],
   "source": [
    "# remove key and values\n",
    "pop!(my_first_julia_dict, \"Tre\")"
   ]
  },
  {
   "cell_type": "code",
   "execution_count": 18,
   "id": "2482d36b-6bb6-4c70-91df-8656027b7f6c",
   "metadata": {},
   "outputs": [
    {
     "data": {
      "text/plain": [
       "Dict{String, String} with 2 entries:\n",
       "  \"Detravious\" => \"789\"\n",
       "  \"Brinkley\"   => \"456\""
      ]
     },
     "execution_count": 18,
     "metadata": {},
     "output_type": "execute_result"
    }
   ],
   "source": [
    "my_first_julia_dict"
   ]
  },
  {
   "cell_type": "markdown",
   "id": "e446d8e3-e30b-4440-a3ba-86d770d331e8",
   "metadata": {},
   "source": [
    "## Tuples"
   ]
  },
  {
   "cell_type": "code",
   "execution_count": 26,
   "id": "ff49bc86-8f26-4fa8-9442-0161ee1a3618",
   "metadata": {},
   "outputs": [
    {
     "data": {
      "text/plain": [
       "(\"Detravious\", \"Brinkley\", \"Tre\")"
      ]
     },
     "execution_count": 26,
     "metadata": {},
     "output_type": "execute_result"
    }
   ],
   "source": [
    "my_names = (\"Detravious\", \"Brinkley\", \"Tre\")"
   ]
  },
  {
   "cell_type": "code",
   "execution_count": 28,
   "id": "54b8358c-c32c-47be-b2ab-7678ec78d8ab",
   "metadata": {},
   "outputs": [
    {
     "data": {
      "text/plain": [
       "\"Detravious\""
      ]
     },
     "execution_count": 28,
     "metadata": {},
     "output_type": "execute_result"
    }
   ],
   "source": [
    "# 1 based index and NOT 0\n",
    "my_names[1]"
   ]
  },
  {
   "cell_type": "code",
   "execution_count": 29,
   "id": "03aae3db-39a3-4154-851b-c51355347672",
   "metadata": {},
   "outputs": [
    {
     "ename": "LoadError",
     "evalue": "MethodError: no method matching setindex!(::Tuple{String, String, String}, ::String, ::Int64)",
     "output_type": "error",
     "traceback": [
      "MethodError: no method matching setindex!(::Tuple{String, String, String}, ::String, ::Int64)",
      "",
      "Stacktrace:",
      " [1] top-level scope",
      "   @ In[29]:2"
     ]
    }
   ],
   "source": [
    "# immutable, can NOT update tuple\n",
    "my_names[1] = \"Bigtruck\""
   ]
  },
  {
   "cell_type": "markdown",
   "id": "02d64da5-e493-4067-a6fb-825bf85607a2",
   "metadata": {},
   "source": [
    "## Arrays"
   ]
  },
  {
   "cell_type": "code",
   "execution_count": 30,
   "id": "c59fe50d-7ebb-45a3-863e-cb23fa14eeb6",
   "metadata": {},
   "outputs": [
    {
     "data": {
      "text/plain": [
       "3-element Vector{String}:\n",
       " \"Detravious\"\n",
       " \"Brinkley\"\n",
       " \"Tre\""
      ]
     },
     "execution_count": 30,
     "metadata": {},
     "output_type": "execute_result"
    }
   ],
   "source": [
    "my_names_again = [\"Detravious\", \"Brinkley\", \"Tre\"]"
   ]
  },
  {
   "cell_type": "code",
   "execution_count": 56,
   "id": "a75fcea9-59fa-461f-b96c-c2991f950945",
   "metadata": {},
   "outputs": [
    {
     "data": {
      "text/plain": [
       "5-element Vector{Int64}:\n",
       "    3\n",
       "    7\n",
       " 1997\n",
       " 2015\n",
       " 2020"
      ]
     },
     "execution_count": 56,
     "metadata": {},
     "output_type": "execute_result"
    }
   ],
   "source": [
    "my_numbers = [3, 7, 1997, 2015, 2020]"
   ]
  },
  {
   "cell_type": "code",
   "execution_count": 57,
   "id": "0de7a679-81a3-464b-90c2-18d476a4c9a1",
   "metadata": {},
   "outputs": [
    {
     "data": {
      "text/plain": [
       "6-element Vector{Any}:\n",
       "    3\n",
       "    7\n",
       " 1997\n",
       " 2015\n",
       " 2020\n",
       "     \"hey\""
      ]
     },
     "execution_count": 57,
     "metadata": {},
     "output_type": "execute_result"
    }
   ],
   "source": [
    "# notice the type changes from Int64 to Any\n",
    "mix = [3, 7, 1997, 2015, 2020, \"hey\"]"
   ]
  },
  {
   "cell_type": "code",
   "execution_count": 58,
   "id": "3ce259cb-ab37-40ac-9287-7ca9fcd08e53",
   "metadata": {},
   "outputs": [
    {
     "data": {
      "text/plain": [
       "1997"
      ]
     },
     "execution_count": 58,
     "metadata": {},
     "output_type": "execute_result"
    }
   ],
   "source": [
    "my_numbers[3]"
   ]
  },
  {
   "cell_type": "code",
   "execution_count": 59,
   "id": "09e57420-3edc-4077-954c-58bcc0b90dcb",
   "metadata": {},
   "outputs": [
    {
     "data": {
      "text/plain": [
       "7991"
      ]
     },
     "execution_count": 59,
     "metadata": {},
     "output_type": "execute_result"
    }
   ],
   "source": [
    "# mutable\n",
    "my_numbers[3] = 7991"
   ]
  },
  {
   "cell_type": "code",
   "execution_count": 60,
   "id": "be03c343-1606-47a2-a5fb-fd1247ad01bf",
   "metadata": {},
   "outputs": [
    {
     "data": {
      "text/plain": [
       "5-element Vector{Int64}:\n",
       "    3\n",
       "    7\n",
       " 7991\n",
       " 2015\n",
       " 2020"
      ]
     },
     "execution_count": 60,
     "metadata": {},
     "output_type": "execute_result"
    }
   ],
   "source": [
    "my_numbers"
   ]
  },
  {
   "cell_type": "code",
   "execution_count": 61,
   "id": "59465f92-1eb0-4254-bbf4-d3ae770f7add",
   "metadata": {},
   "outputs": [
    {
     "data": {
      "text/plain": [
       "6-element Vector{Int64}:\n",
       "    3\n",
       "    7\n",
       " 7991\n",
       " 2015\n",
       " 2020\n",
       "   21"
      ]
     },
     "execution_count": 61,
     "metadata": {},
     "output_type": "execute_result"
    }
   ],
   "source": [
    "push!(my_numbers, 21)"
   ]
  },
  {
   "cell_type": "code",
   "execution_count": 63,
   "id": "471dca81-f72f-4c31-84f6-9923ae96cf8b",
   "metadata": {},
   "outputs": [
    {
     "data": {
      "text/plain": [
       "21"
      ]
     },
     "execution_count": 63,
     "metadata": {},
     "output_type": "execute_result"
    }
   ],
   "source": [
    "pop!(my_numbers)"
   ]
  },
  {
   "cell_type": "code",
   "execution_count": 64,
   "id": "36c6bda8-2977-41b2-9717-532bba9016ec",
   "metadata": {},
   "outputs": [
    {
     "data": {
      "text/plain": [
       "5-element Vector{Int64}:\n",
       "    3\n",
       "    7\n",
       " 7991\n",
       " 2015\n",
       " 2020"
      ]
     },
     "execution_count": 64,
     "metadata": {},
     "output_type": "execute_result"
    }
   ],
   "source": [
    "my_numbers"
   ]
  },
  {
   "cell_type": "code",
   "execution_count": 65,
   "id": "d831bfe8-b44d-41dc-a9cd-b31e778eadba",
   "metadata": {},
   "outputs": [
    {
     "data": {
      "text/plain": [
       "2-element Vector{Any}:\n",
       " [\"T\", \"B\"]\n",
       " \"D\""
      ]
     },
     "execution_count": 65,
     "metadata": {},
     "output_type": "execute_result"
    }
   ],
   "source": [
    "favs = [[\"T\", \"B\"], \"D\"]"
   ]
  },
  {
   "cell_type": "code",
   "execution_count": null,
   "id": "32e9d4ad-e374-4597-a1e9-ab1b14f7e909",
   "metadata": {},
   "outputs": [],
   "source": []
  }
 ],
 "metadata": {
  "kernelspec": {
   "display_name": "Julia 1.6.7",
   "language": "julia",
   "name": "julia-1.6"
  },
  "language_info": {
   "file_extension": ".jl",
   "mimetype": "application/julia",
   "name": "julia",
   "version": "1.6.7"
  }
 },
 "nbformat": 4,
 "nbformat_minor": 5
}
