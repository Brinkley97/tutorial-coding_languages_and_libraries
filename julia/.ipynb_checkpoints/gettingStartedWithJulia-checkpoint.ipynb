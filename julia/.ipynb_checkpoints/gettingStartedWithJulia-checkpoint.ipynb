{
 "cells": [
  {
   "cell_type": "markdown",
   "id": "57a8cec8-d65a-4482-a3a2-1c6f44213e55",
   "metadata": {},
   "source": [
    "# Getting Started\n",
    "- TUTORIAL: [Getting Started](https://juliaacademy.com/courses/375479/lectures/5815852) by Julia Academy"
   ]
  },
  {
   "cell_type": "markdown",
   "id": "4720b572-de30-40d9-8868-e513a2e8fe29",
   "metadata": {},
   "source": [
    "# How to print"
   ]
  },
  {
   "cell_type": "code",
   "execution_count": 1,
   "id": "b8db4ded-55a6-44b3-a421-3505c0fc7a1e",
   "metadata": {},
   "outputs": [
    {
     "name": "stdout",
     "output_type": "stream",
     "text": [
      "I'm excited to learn Julia!\n"
     ]
    }
   ],
   "source": [
    "println(\"I'm excited to learn Julia!\")"
   ]
  },
  {
   "cell_type": "markdown",
   "id": "4dd49cd8-1101-435c-b861-e96f6b1bda12",
   "metadata": {},
   "source": [
    "# How to assign variables\n",
    "- Dynamic typing declare, assign, and Julia will determine the type. Differs from C++, Java, etc where we have to state the type. Java: `int my_answer = 42`"
   ]
  },
  {
   "cell_type": "code",
   "execution_count": 2,
   "id": "7b69e6e1-b2da-4717-be42-c7edacca099b",
   "metadata": {},
   "outputs": [
    {
     "data": {
      "text/plain": [
       "Int64"
      ]
     },
     "execution_count": 2,
     "metadata": {},
     "output_type": "execute_result"
    }
   ],
   "source": [
    "my_answer = 42\n",
    "typeof(my_answer)"
   ]
  },
  {
   "cell_type": "code",
   "execution_count": 3,
   "id": "43998a1d-b251-4577-a0d9-6fbdb46d69e7",
   "metadata": {},
   "outputs": [
    {
     "data": {
      "text/plain": [
       "Float64"
      ]
     },
     "execution_count": 3,
     "metadata": {},
     "output_type": "execute_result"
    }
   ],
   "source": [
    "my_pi = 3.14159\n",
    "typeof(my_pi)"
   ]
  },
  {
   "cell_type": "markdown",
   "id": "294ea5f3-d8f0-4f84-b768-9e800e596eb6",
   "metadata": {},
   "source": [
    "Emojis are unicode characters"
   ]
  },
  {
   "cell_type": "code",
   "execution_count": 4,
   "id": "8fa03995-171a-4bd4-8e6c-9daafc975286",
   "metadata": {},
   "outputs": [
    {
     "data": {
      "text/plain": [
       "1"
      ]
     },
     "execution_count": 4,
     "metadata": {},
     "output_type": "execute_result"
    }
   ],
   "source": [
    "💪🏾 = 1"
   ]
  },
  {
   "cell_type": "code",
   "execution_count": 5,
   "id": "32426ade-7e72-41e2-a2f8-fdf7a939aaa4",
   "metadata": {},
   "outputs": [
    {
     "data": {
      "text/plain": [
       "Int64"
      ]
     },
     "execution_count": 5,
     "metadata": {},
     "output_type": "execute_result"
    }
   ],
   "source": [
    "typeof(💪🏾)"
   ]
  },
  {
   "cell_type": "markdown",
   "id": "ba64cbcb-6ba7-4ad0-99f6-3ef094bc5cb3",
   "metadata": {},
   "source": [
    "# How to comments"
   ]
  },
  {
   "cell_type": "code",
   "execution_count": 6,
   "id": "4de3074b-d567-4043-a4cd-ddfb9466a8b3",
   "metadata": {},
   "outputs": [
    {
     "data": {
      "text/plain": [
       "5"
      ]
     },
     "execution_count": 6,
     "metadata": {},
     "output_type": "execute_result"
    }
   ],
   "source": [
    "# 1 + 1\n",
    "2 + 3"
   ]
  },
  {
   "cell_type": "code",
   "execution_count": 7,
   "id": "7b8e2a7f-12e5-4b6a-a45c-8d6428915d4b",
   "metadata": {},
   "outputs": [],
   "source": [
    "#=\n",
    "1 + 1\n",
    "=#"
   ]
  },
  {
   "cell_type": "markdown",
   "id": "029614fc-64fd-4fd0-a752-3d7fe47884e9",
   "metadata": {},
   "source": [
    "# Basic Math"
   ]
  },
  {
   "cell_type": "code",
   "execution_count": 8,
   "id": "9e2e9d50-9afd-48ac-b80b-153b76875577",
   "metadata": {},
   "outputs": [
    {
     "data": {
      "text/plain": [
       "100"
      ]
     },
     "execution_count": 8,
     "metadata": {},
     "output_type": "execute_result"
    }
   ],
   "source": [
    "power = 10 ^ 2"
   ]
  },
  {
   "cell_type": "markdown",
   "id": "949ad1be-55bb-49ec-a12f-e4868019792c",
   "metadata": {},
   "source": [
    "# Exercises"
   ]
  },
  {
   "cell_type": "markdown",
   "id": "51bbaa9a-6417-4801-a2bb-75bc18605dce",
   "metadata": {},
   "source": [
    "## 1.2 \n",
    "\n",
    "Assign `365` to a variable names `days`. Convert `days` to a float and assign it to variable `days_float`"
   ]
  },
  {
   "cell_type": "code",
   "execution_count": 9,
   "id": "5a128854-43c0-422e-a5e5-99042f241f2c",
   "metadata": {},
   "outputs": [
    {
     "data": {
      "text/plain": [
       "Int64"
      ]
     },
     "execution_count": 9,
     "metadata": {},
     "output_type": "execute_result"
    }
   ],
   "source": [
    "days = 365\n",
    "typeof(days)"
   ]
  },
  {
   "cell_type": "code",
   "execution_count": 10,
   "id": "f688105d-4864-4408-9b84-323a9ad6b62f",
   "metadata": {},
   "outputs": [
    {
     "data": {
      "text/plain": [
       "Float32"
      ]
     },
     "execution_count": 10,
     "metadata": {},
     "output_type": "execute_result"
    }
   ],
   "source": [
    "days_float = convert(Float32, days)\n",
    "typeof(days_float)"
   ]
  },
  {
   "cell_type": "code",
   "execution_count": 11,
   "id": "239b1dff-b61a-47bf-b757-a397f8b9d9d3",
   "metadata": {},
   "outputs": [],
   "source": [
    "@assert days == 365\n",
    "@assert days_float == 365.0"
   ]
  },
  {
   "cell_type": "code",
   "execution_count": 12,
   "id": "d6e4a911-16cf-4b7e-9a0f-34a18310209f",
   "metadata": {},
   "outputs": [
    {
     "data": {
      "text/plain": [
       "(Int64, 365)"
      ]
     },
     "execution_count": 12,
     "metadata": {},
     "output_type": "execute_result"
    }
   ],
   "source": [
    "typeof(days), days"
   ]
  },
  {
   "cell_type": "code",
   "execution_count": 13,
   "id": "a1f591b5-84dd-415d-ab70-78ba71461289",
   "metadata": {},
   "outputs": [
    {
     "data": {
      "text/plain": [
       "(Float32, 365.0f0)"
      ]
     },
     "execution_count": 13,
     "metadata": {},
     "output_type": "execute_result"
    }
   ],
   "source": [
    "typeof(days_float), days_float"
   ]
  },
  {
   "cell_type": "markdown",
   "id": "0ba570b2-5613-49cd-941c-903abdc2ac79",
   "metadata": {},
   "source": [
    "## 1.3\n",
    "\n",
    "See what happens with both cells below"
   ]
  },
  {
   "cell_type": "code",
   "execution_count": 14,
   "id": "e37fbe50-db26-499c-97f7-53907637044e",
   "metadata": {},
   "outputs": [
    {
     "ename": "LoadError",
     "evalue": "MethodError: \u001b[0mCannot `convert` an object of type \u001b[92mString\u001b[39m\u001b[0m to an object of type \u001b[91mInt64\u001b[39m\n\u001b[0mClosest candidates are:\n\u001b[0m  convert(::Type{T}, \u001b[91m::T\u001b[39m) where T<:Number at number.jl:6\n\u001b[0m  convert(::Type{T}, \u001b[91m::Number\u001b[39m) where T<:Number at number.jl:7\n\u001b[0m  convert(::Type{T}, \u001b[91m::Base.TwicePrecision\u001b[39m) where T<:Number at twiceprecision.jl:250\n\u001b[0m  ...",
     "output_type": "error",
     "traceback": [
      "MethodError: \u001b[0mCannot `convert` an object of type \u001b[92mString\u001b[39m\u001b[0m to an object of type \u001b[91mInt64\u001b[39m\n\u001b[0mClosest candidates are:\n\u001b[0m  convert(::Type{T}, \u001b[91m::T\u001b[39m) where T<:Number at number.jl:6\n\u001b[0m  convert(::Type{T}, \u001b[91m::Number\u001b[39m) where T<:Number at number.jl:7\n\u001b[0m  convert(::Type{T}, \u001b[91m::Base.TwicePrecision\u001b[39m) where T<:Number at twiceprecision.jl:250\n\u001b[0m  ...",
      "",
      "Stacktrace:",
      " [1] top-level scope",
      "   @ In[14]:1"
     ]
    }
   ],
   "source": [
    "convert(Int64, \"1\")"
   ]
  },
  {
   "cell_type": "code",
   "execution_count": 15,
   "id": "1ffbc740-60f7-446b-aff7-042105e130b5",
   "metadata": {},
   "outputs": [
    {
     "data": {
      "text/plain": [
       "1"
      ]
     },
     "execution_count": 15,
     "metadata": {},
     "output_type": "execute_result"
    }
   ],
   "source": [
    "parse(Int64, \"1\")"
   ]
  },
  {
   "cell_type": "code",
   "execution_count": null,
   "id": "6bc467f3-39dc-480e-84ee-e971677dbc4a",
   "metadata": {},
   "outputs": [],
   "source": []
  }
 ],
 "metadata": {
  "kernelspec": {
   "display_name": "Julia 1.6.7",
   "language": "julia",
   "name": "julia-1.6"
  },
  "language_info": {
   "file_extension": ".jl",
   "mimetype": "application/julia",
   "name": "julia",
   "version": "1.6.7"
  }
 },
 "nbformat": 4,
 "nbformat_minor": 5
}
